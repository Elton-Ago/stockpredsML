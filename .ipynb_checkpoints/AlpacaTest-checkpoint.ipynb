{
 "cells": [
  {
   "cell_type": "code",
   "execution_count": 201,
   "id": "4794ae13",
   "metadata": {},
   "outputs": [],
   "source": [
    "import alpaca_trade_api as tradeapi\n",
    "import matplotlib.pyplot as plt\n",
    "import config as cf\n",
    "from alpaca_trade_api.rest import REST, TimeFrame\n",
    "from alpaca_trade_api.common import URL\n",
    "from alpaca_trade_api.stream import Stream"
   ]
  },
  {
   "cell_type": "code",
   "execution_count": 202,
   "id": "75a53e68",
   "metadata": {},
   "outputs": [],
   "source": [
    "base_urL= \"https://paper-api.alpaca.markets\"\n",
    "base_url1 = \"https://data.alpaca.markets\"\n",
    "alpaca_api_key = \"PK2VVCQIOCPEDH6OSTTS\"\n",
    "alpaca_secret_key = \"depW27g3IjSwAJEmlmZbH5Y1Vk4JY7UZCFingw54\""
   ]
  },
  {
   "cell_type": "code",
   "execution_count": 203,
   "id": "2f17aecd",
   "metadata": {},
   "outputs": [],
   "source": [
    "api = tradeapi.REST(key_id = alpaca_api_key, secret_key = alpaca_secret_key, base_url = base_urL, api_version = 'v2')"
   ]
  },
  {
   "cell_type": "code",
   "execution_count": 204,
   "id": "e1f07e47",
   "metadata": {},
   "outputs": [],
   "source": [
    "account = api.get_account()"
   ]
  },
  {
   "cell_type": "code",
   "execution_count": 205,
   "id": "ace0569b",
   "metadata": {},
   "outputs": [
    {
     "name": "stdout",
     "output_type": "stream",
     "text": [
      "a591b9e4-df81-4652-973d-ccf331202ca9 100000 ACTIVE\n"
     ]
    }
   ],
   "source": [
    "print(account.id, account.equity, account.status)"
   ]
  },
  {
   "cell_type": "code",
   "execution_count": 210,
   "id": "8c62c405",
   "metadata": {
    "scrolled": true
   },
   "outputs": [
    {
     "data": {
      "text/html": [
       "<div>\n",
       "<style scoped>\n",
       "    .dataframe tbody tr th:only-of-type {\n",
       "        vertical-align: middle;\n",
       "    }\n",
       "\n",
       "    .dataframe tbody tr th {\n",
       "        vertical-align: top;\n",
       "    }\n",
       "\n",
       "    .dataframe thead th {\n",
       "        text-align: right;\n",
       "    }\n",
       "</style>\n",
       "<table border=\"1\" class=\"dataframe\">\n",
       "  <thead>\n",
       "    <tr style=\"text-align: right;\">\n",
       "      <th></th>\n",
       "      <th>open</th>\n",
       "      <th>high</th>\n",
       "      <th>low</th>\n",
       "      <th>close</th>\n",
       "      <th>volume</th>\n",
       "      <th>trade_count</th>\n",
       "      <th>vwap</th>\n",
       "    </tr>\n",
       "    <tr>\n",
       "      <th>timestamp</th>\n",
       "      <th></th>\n",
       "      <th></th>\n",
       "      <th></th>\n",
       "      <th></th>\n",
       "      <th></th>\n",
       "      <th></th>\n",
       "      <th></th>\n",
       "    </tr>\n",
       "  </thead>\n",
       "  <tbody>\n",
       "    <tr>\n",
       "      <th>2021-06-08 08:00:00+00:00</th>\n",
       "      <td>126.1000</td>\n",
       "      <td>126.3000</td>\n",
       "      <td>125.9600</td>\n",
       "      <td>126.300</td>\n",
       "      <td>42132</td>\n",
       "      <td>653</td>\n",
       "      <td>126.141174</td>\n",
       "    </tr>\n",
       "    <tr>\n",
       "      <th>2021-06-08 09:00:00+00:00</th>\n",
       "      <td>126.2700</td>\n",
       "      <td>126.4000</td>\n",
       "      <td>126.2200</td>\n",
       "      <td>126.380</td>\n",
       "      <td>21095</td>\n",
       "      <td>416</td>\n",
       "      <td>126.296306</td>\n",
       "    </tr>\n",
       "    <tr>\n",
       "      <th>2021-06-08 10:00:00+00:00</th>\n",
       "      <td>126.3800</td>\n",
       "      <td>126.6000</td>\n",
       "      <td>125.8400</td>\n",
       "      <td>126.490</td>\n",
       "      <td>54710</td>\n",
       "      <td>960</td>\n",
       "      <td>126.268487</td>\n",
       "    </tr>\n",
       "    <tr>\n",
       "      <th>2021-06-08 11:00:00+00:00</th>\n",
       "      <td>126.4400</td>\n",
       "      <td>126.8500</td>\n",
       "      <td>126.4000</td>\n",
       "      <td>126.830</td>\n",
       "      <td>205430</td>\n",
       "      <td>2650</td>\n",
       "      <td>126.687422</td>\n",
       "    </tr>\n",
       "    <tr>\n",
       "      <th>2021-06-08 12:00:00+00:00</th>\n",
       "      <td>126.4101</td>\n",
       "      <td>126.9500</td>\n",
       "      <td>126.3999</td>\n",
       "      <td>126.930</td>\n",
       "      <td>532138</td>\n",
       "      <td>4893</td>\n",
       "      <td>126.784605</td>\n",
       "    </tr>\n",
       "    <tr>\n",
       "      <th>2021-06-08 13:00:00+00:00</th>\n",
       "      <td>126.9200</td>\n",
       "      <td>128.4600</td>\n",
       "      <td>126.4485</td>\n",
       "      <td>127.025</td>\n",
       "      <td>18446023</td>\n",
       "      <td>140659</td>\n",
       "      <td>127.504824</td>\n",
       "    </tr>\n",
       "    <tr>\n",
       "      <th>2021-06-08 14:00:00+00:00</th>\n",
       "      <td>127.0200</td>\n",
       "      <td>127.6400</td>\n",
       "      <td>126.7800</td>\n",
       "      <td>127.135</td>\n",
       "      <td>13467138</td>\n",
       "      <td>100596</td>\n",
       "      <td>127.249910</td>\n",
       "    </tr>\n",
       "    <tr>\n",
       "      <th>2021-06-08 15:00:00+00:00</th>\n",
       "      <td>127.1400</td>\n",
       "      <td>127.4700</td>\n",
       "      <td>126.2101</td>\n",
       "      <td>126.610</td>\n",
       "      <td>10537352</td>\n",
       "      <td>79786</td>\n",
       "      <td>126.777499</td>\n",
       "    </tr>\n",
       "    <tr>\n",
       "      <th>2021-06-08 16:00:00+00:00</th>\n",
       "      <td>126.6100</td>\n",
       "      <td>126.8400</td>\n",
       "      <td>126.5300</td>\n",
       "      <td>126.825</td>\n",
       "      <td>5292907</td>\n",
       "      <td>41511</td>\n",
       "      <td>126.706467</td>\n",
       "    </tr>\n",
       "    <tr>\n",
       "      <th>2021-06-08 17:00:00+00:00</th>\n",
       "      <td>126.8200</td>\n",
       "      <td>126.9300</td>\n",
       "      <td>126.4300</td>\n",
       "      <td>126.701</td>\n",
       "      <td>4815737</td>\n",
       "      <td>40221</td>\n",
       "      <td>126.677503</td>\n",
       "    </tr>\n",
       "    <tr>\n",
       "      <th>2021-06-08 18:00:00+00:00</th>\n",
       "      <td>126.7072</td>\n",
       "      <td>127.3183</td>\n",
       "      <td>126.6700</td>\n",
       "      <td>127.285</td>\n",
       "      <td>5353391</td>\n",
       "      <td>39799</td>\n",
       "      <td>127.003577</td>\n",
       "    </tr>\n",
       "    <tr>\n",
       "      <th>2021-06-08 19:00:00+00:00</th>\n",
       "      <td>127.2900</td>\n",
       "      <td>127.4200</td>\n",
       "      <td>126.6800</td>\n",
       "      <td>126.740</td>\n",
       "      <td>9844780</td>\n",
       "      <td>73930</td>\n",
       "      <td>127.006240</td>\n",
       "    </tr>\n",
       "    <tr>\n",
       "      <th>2021-06-08 20:00:00+00:00</th>\n",
       "      <td>126.7400</td>\n",
       "      <td>126.8500</td>\n",
       "      <td>126.5400</td>\n",
       "      <td>126.660</td>\n",
       "      <td>5525890</td>\n",
       "      <td>2739</td>\n",
       "      <td>126.739271</td>\n",
       "    </tr>\n",
       "    <tr>\n",
       "      <th>2021-06-08 21:00:00+00:00</th>\n",
       "      <td>126.6900</td>\n",
       "      <td>126.8500</td>\n",
       "      <td>126.6500</td>\n",
       "      <td>126.660</td>\n",
       "      <td>156333</td>\n",
       "      <td>1011</td>\n",
       "      <td>126.741650</td>\n",
       "    </tr>\n",
       "    <tr>\n",
       "      <th>2021-06-08 22:00:00+00:00</th>\n",
       "      <td>126.6900</td>\n",
       "      <td>126.7400</td>\n",
       "      <td>126.6600</td>\n",
       "      <td>126.730</td>\n",
       "      <td>49252</td>\n",
       "      <td>308</td>\n",
       "      <td>126.706057</td>\n",
       "    </tr>\n",
       "    <tr>\n",
       "      <th>2021-06-08 23:00:00+00:00</th>\n",
       "      <td>126.7250</td>\n",
       "      <td>126.7600</td>\n",
       "      <td>126.6400</td>\n",
       "      <td>126.640</td>\n",
       "      <td>41430</td>\n",
       "      <td>418</td>\n",
       "      <td>126.711565</td>\n",
       "    </tr>\n",
       "  </tbody>\n",
       "</table>\n",
       "</div>"
      ],
      "text/plain": [
       "                               open      high       low    close    volume  \\\n",
       "timestamp                                                                    \n",
       "2021-06-08 08:00:00+00:00  126.1000  126.3000  125.9600  126.300     42132   \n",
       "2021-06-08 09:00:00+00:00  126.2700  126.4000  126.2200  126.380     21095   \n",
       "2021-06-08 10:00:00+00:00  126.3800  126.6000  125.8400  126.490     54710   \n",
       "2021-06-08 11:00:00+00:00  126.4400  126.8500  126.4000  126.830    205430   \n",
       "2021-06-08 12:00:00+00:00  126.4101  126.9500  126.3999  126.930    532138   \n",
       "2021-06-08 13:00:00+00:00  126.9200  128.4600  126.4485  127.025  18446023   \n",
       "2021-06-08 14:00:00+00:00  127.0200  127.6400  126.7800  127.135  13467138   \n",
       "2021-06-08 15:00:00+00:00  127.1400  127.4700  126.2101  126.610  10537352   \n",
       "2021-06-08 16:00:00+00:00  126.6100  126.8400  126.5300  126.825   5292907   \n",
       "2021-06-08 17:00:00+00:00  126.8200  126.9300  126.4300  126.701   4815737   \n",
       "2021-06-08 18:00:00+00:00  126.7072  127.3183  126.6700  127.285   5353391   \n",
       "2021-06-08 19:00:00+00:00  127.2900  127.4200  126.6800  126.740   9844780   \n",
       "2021-06-08 20:00:00+00:00  126.7400  126.8500  126.5400  126.660   5525890   \n",
       "2021-06-08 21:00:00+00:00  126.6900  126.8500  126.6500  126.660    156333   \n",
       "2021-06-08 22:00:00+00:00  126.6900  126.7400  126.6600  126.730     49252   \n",
       "2021-06-08 23:00:00+00:00  126.7250  126.7600  126.6400  126.640     41430   \n",
       "\n",
       "                           trade_count        vwap  \n",
       "timestamp                                           \n",
       "2021-06-08 08:00:00+00:00          653  126.141174  \n",
       "2021-06-08 09:00:00+00:00          416  126.296306  \n",
       "2021-06-08 10:00:00+00:00          960  126.268487  \n",
       "2021-06-08 11:00:00+00:00         2650  126.687422  \n",
       "2021-06-08 12:00:00+00:00         4893  126.784605  \n",
       "2021-06-08 13:00:00+00:00       140659  127.504824  \n",
       "2021-06-08 14:00:00+00:00       100596  127.249910  \n",
       "2021-06-08 15:00:00+00:00        79786  126.777499  \n",
       "2021-06-08 16:00:00+00:00        41511  126.706467  \n",
       "2021-06-08 17:00:00+00:00        40221  126.677503  \n",
       "2021-06-08 18:00:00+00:00        39799  127.003577  \n",
       "2021-06-08 19:00:00+00:00        73930  127.006240  \n",
       "2021-06-08 20:00:00+00:00         2739  126.739271  \n",
       "2021-06-08 21:00:00+00:00         1011  126.741650  \n",
       "2021-06-08 22:00:00+00:00          308  126.706057  \n",
       "2021-06-08 23:00:00+00:00          418  126.711565  "
      ]
     },
     "execution_count": 210,
     "metadata": {},
     "output_type": "execute_result"
    }
   ],
   "source": [
    "api.get_bars(\"AAPL\", TimeFrame.Hour, \"2021-06-08\",\"2021-06-08\",adjustment='raw').df"
   ]
  },
  {
   "cell_type": "code",
   "execution_count": null,
   "id": "8a7f32b8",
   "metadata": {},
   "outputs": [],
   "source": [
    "apple_data = api.get_barset(\"AAPL\",\"day\",limit=100).df\n",
    "print(apple_data.head())"
   ]
  },
  {
   "cell_type": "code",
   "execution_count": null,
   "id": "e7041f54",
   "metadata": {},
   "outputs": [],
   "source": [
    "apple_data.columns = apple_data.columns.to_flat_index()\n",
    "apple_data.columns = [x[1] for x in apple_data.columns]\n",
    "apple_data.reset_index(inplace=True)\n",
    "print(apple_data.head())"
   ]
  },
  {
   "cell_type": "code",
   "execution_count": null,
   "id": "ce8f33b7",
   "metadata": {},
   "outputs": [],
   "source": []
  },
  {
   "cell_type": "code",
   "execution_count": null,
   "id": "2b73223c",
   "metadata": {},
   "outputs": [],
   "source": []
  },
  {
   "cell_type": "code",
   "execution_count": 207,
   "id": "404227b6",
   "metadata": {
    "scrolled": true
   },
   "outputs": [
    {
     "name": "stdout",
     "output_type": "stream",
     "text": [
      "Bar({   'c': 126.3,\n",
      "    'h': 126.3,\n",
      "    'l': 125.96,\n",
      "    'n': 653,\n",
      "    'o': 126.1,\n",
      "    't': '2021-06-08T08:00:00Z',\n",
      "    'v': 42132,\n",
      "    'vw': 126.141174})\n",
      "Bar({   'c': 126.38,\n",
      "    'h': 126.4,\n",
      "    'l': 126.22,\n",
      "    'n': 416,\n",
      "    'o': 126.27,\n",
      "    't': '2021-06-08T09:00:00Z',\n",
      "    'v': 21095,\n",
      "    'vw': 126.296306})\n",
      "Bar({   'c': 126.49,\n",
      "    'h': 126.6,\n",
      "    'l': 125.84,\n",
      "    'n': 960,\n",
      "    'o': 126.38,\n",
      "    't': '2021-06-08T10:00:00Z',\n",
      "    'v': 54710,\n",
      "    'vw': 126.268487})\n",
      "Bar({   'c': 126.83,\n",
      "    'h': 126.85,\n",
      "    'l': 126.4,\n",
      "    'n': 2650,\n",
      "    'o': 126.44,\n",
      "    't': '2021-06-08T11:00:00Z',\n",
      "    'v': 205430,\n",
      "    'vw': 126.687422})\n",
      "Bar({   'c': 126.93,\n",
      "    'h': 126.95,\n",
      "    'l': 126.3999,\n",
      "    'n': 4893,\n",
      "    'o': 126.4101,\n",
      "    't': '2021-06-08T12:00:00Z',\n",
      "    'v': 532138,\n",
      "    'vw': 126.784605})\n",
      "Bar({   'c': 127.025,\n",
      "    'h': 128.46,\n",
      "    'l': 126.4485,\n",
      "    'n': 140659,\n",
      "    'o': 126.92,\n",
      "    't': '2021-06-08T13:00:00Z',\n",
      "    'v': 18446023,\n",
      "    'vw': 127.504824})\n",
      "Bar({   'c': 127.135,\n",
      "    'h': 127.64,\n",
      "    'l': 126.78,\n",
      "    'n': 100596,\n",
      "    'o': 127.02,\n",
      "    't': '2021-06-08T14:00:00Z',\n",
      "    'v': 13467138,\n",
      "    'vw': 127.24991})\n",
      "Bar({   'c': 126.61,\n",
      "    'h': 127.47,\n",
      "    'l': 126.2101,\n",
      "    'n': 79786,\n",
      "    'o': 127.14,\n",
      "    't': '2021-06-08T15:00:00Z',\n",
      "    'v': 10537352,\n",
      "    'vw': 126.777499})\n",
      "Bar({   'c': 126.825,\n",
      "    'h': 126.84,\n",
      "    'l': 126.53,\n",
      "    'n': 41511,\n",
      "    'o': 126.61,\n",
      "    't': '2021-06-08T16:00:00Z',\n",
      "    'v': 5292907,\n",
      "    'vw': 126.706467})\n",
      "Bar({   'c': 126.701,\n",
      "    'h': 126.93,\n",
      "    'l': 126.43,\n",
      "    'n': 40221,\n",
      "    'o': 126.82,\n",
      "    't': '2021-06-08T17:00:00Z',\n",
      "    'v': 4815737,\n",
      "    'vw': 126.677503})\n",
      "Bar({   'c': 127.285,\n",
      "    'h': 127.3183,\n",
      "    'l': 126.67,\n",
      "    'n': 39799,\n",
      "    'o': 126.7072,\n",
      "    't': '2021-06-08T18:00:00Z',\n",
      "    'v': 5353391,\n",
      "    'vw': 127.003577})\n",
      "Bar({   'c': 126.74,\n",
      "    'h': 127.42,\n",
      "    'l': 126.68,\n",
      "    'n': 73930,\n",
      "    'o': 127.29,\n",
      "    't': '2021-06-08T19:00:00Z',\n",
      "    'v': 9844780,\n",
      "    'vw': 127.00624})\n",
      "Bar({   'c': 126.66,\n",
      "    'h': 126.85,\n",
      "    'l': 126.54,\n",
      "    'n': 2739,\n",
      "    'o': 126.74,\n",
      "    't': '2021-06-08T20:00:00Z',\n",
      "    'v': 5525890,\n",
      "    'vw': 126.739271})\n",
      "Bar({   'c': 126.66,\n",
      "    'h': 126.85,\n",
      "    'l': 126.65,\n",
      "    'n': 1011,\n",
      "    'o': 126.69,\n",
      "    't': '2021-06-08T21:00:00Z',\n",
      "    'v': 156333,\n",
      "    'vw': 126.74165})\n",
      "Bar({   'c': 126.73,\n",
      "    'h': 126.74,\n",
      "    'l': 126.66,\n",
      "    'n': 308,\n",
      "    'o': 126.69,\n",
      "    't': '2021-06-08T22:00:00Z',\n",
      "    'v': 49252,\n",
      "    'vw': 126.706057})\n",
      "Bar({   'c': 126.64,\n",
      "    'h': 126.76,\n",
      "    'l': 126.64,\n",
      "    'n': 418,\n",
      "    'o': 126.725,\n",
      "    't': '2021-06-08T23:00:00Z',\n",
      "    'v': 41430,\n",
      "    'vw': 126.711565})\n"
     ]
    }
   ],
   "source": [
    "def process_bar(bar):\n",
    "    print(bar)#process bar\n",
    "    \n",
    "bar_iter=api.get_bars_iter(\"AAPL\",TimeFrame.Hour,\"2021-06-08\",\"2021-06-08\",adjustment='raw')\n",
    "for bar in bar_iter:\n",
    "    process_bar(bar)"
   ]
  },
  {
   "cell_type": "code",
   "execution_count": 208,
   "id": "9a24f8e5",
   "metadata": {},
   "outputs": [
    {
     "data": {
      "text/plain": [
       "Order({   'asset_class': 'us_equity',\n",
       "    'asset_id': 'b0b6dd9d-8b9b-48a9-ba46-b9d54906e415',\n",
       "    'canceled_at': None,\n",
       "    'client_order_id': '22cfdef6-9003-47f2-8092-cff59276783b',\n",
       "    'created_at': '2022-10-23T06:17:24.712456305Z',\n",
       "    'expired_at': None,\n",
       "    'extended_hours': False,\n",
       "    'failed_at': None,\n",
       "    'filled_at': None,\n",
       "    'filled_avg_price': None,\n",
       "    'filled_qty': '0',\n",
       "    'hwm': None,\n",
       "    'id': 'aea0ddb9-4a32-48e9-ab1d-bd9564c15311',\n",
       "    'legs': None,\n",
       "    'limit_price': None,\n",
       "    'notional': None,\n",
       "    'order_class': '',\n",
       "    'order_type': 'market',\n",
       "    'qty': '1',\n",
       "    'replaced_at': None,\n",
       "    'replaced_by': None,\n",
       "    'replaces': None,\n",
       "    'side': 'buy',\n",
       "    'source': None,\n",
       "    'status': 'accepted',\n",
       "    'stop_price': None,\n",
       "    'submitted_at': '2022-10-23T06:17:24.710983655Z',\n",
       "    'subtag': None,\n",
       "    'symbol': 'AAPL',\n",
       "    'time_in_force': 'day',\n",
       "    'trail_percent': None,\n",
       "    'trail_price': None,\n",
       "    'type': 'market',\n",
       "    'updated_at': '2022-10-23T06:17:24.712456305Z'})"
      ]
     },
     "execution_count": 208,
     "metadata": {},
     "output_type": "execute_result"
    }
   ],
   "source": [
    "api.submit_order(\"AAPL\",1,\"buy\",\"market\",'day')"
   ]
  },
  {
   "cell_type": "code",
   "execution_count": 209,
   "id": "d33f1d5a",
   "metadata": {},
   "outputs": [
    {
     "data": {
      "text/plain": [
       "Order({   'asset_class': 'us_equity',\n",
       "    'asset_id': '8ccae427-5dd0-45b3-b5fe-7ba5e422c766',\n",
       "    'canceled_at': None,\n",
       "    'client_order_id': 'f2b72594-fe8e-4ffd-8348-2c45068ae875',\n",
       "    'created_at': '2022-10-23T06:17:25.47052212Z',\n",
       "    'expired_at': None,\n",
       "    'extended_hours': False,\n",
       "    'failed_at': None,\n",
       "    'filled_at': None,\n",
       "    'filled_avg_price': None,\n",
       "    'filled_qty': '0',\n",
       "    'hwm': None,\n",
       "    'id': '2fa2edb2-a34c-4acc-83e5-5a3ef41d3904',\n",
       "    'legs': None,\n",
       "    'limit_price': None,\n",
       "    'notional': None,\n",
       "    'order_class': '',\n",
       "    'order_type': 'market',\n",
       "    'qty': '1',\n",
       "    'replaced_at': None,\n",
       "    'replaced_by': None,\n",
       "    'replaces': None,\n",
       "    'side': 'sell',\n",
       "    'source': None,\n",
       "    'status': 'accepted',\n",
       "    'stop_price': None,\n",
       "    'submitted_at': '2022-10-23T06:17:25.46946429Z',\n",
       "    'subtag': None,\n",
       "    'symbol': 'TSLA',\n",
       "    'time_in_force': 'day',\n",
       "    'trail_percent': None,\n",
       "    'trail_price': None,\n",
       "    'type': 'market',\n",
       "    'updated_at': '2022-10-23T06:17:25.47052212Z'})"
      ]
     },
     "execution_count": 209,
     "metadata": {},
     "output_type": "execute_result"
    }
   ],
   "source": [
    "api.submit_order(\"TSLA\",1,\"sell\",\"market\",\"day\")"
   ]
  },
  {
   "cell_type": "code",
   "execution_count": null,
   "id": "a9417389",
   "metadata": {},
   "outputs": [],
   "source": [
    "aapl_position = api.get_position(\"AAPL\")"
   ]
  },
  {
   "cell_type": "code",
   "execution_count": null,
   "id": "f0430126",
   "metadata": {},
   "outputs": [],
   "source": []
  },
  {
   "cell_type": "code",
   "execution_count": null,
   "id": "038ec180",
   "metadata": {},
   "outputs": [],
   "source": []
  },
  {
   "cell_type": "code",
   "execution_count": null,
   "id": "377c6ea3",
   "metadata": {},
   "outputs": [],
   "source": []
  },
  {
   "cell_type": "code",
   "execution_count": 190,
   "id": "fea755ae",
   "metadata": {},
   "outputs": [
    {
     "data": {
      "text/html": [
       "<div>\n",
       "<style scoped>\n",
       "    .dataframe tbody tr th:only-of-type {\n",
       "        vertical-align: middle;\n",
       "    }\n",
       "\n",
       "    .dataframe tbody tr th {\n",
       "        vertical-align: top;\n",
       "    }\n",
       "\n",
       "    .dataframe thead th {\n",
       "        text-align: right;\n",
       "    }\n",
       "</style>\n",
       "<table border=\"1\" class=\"dataframe\">\n",
       "  <thead>\n",
       "    <tr style=\"text-align: right;\">\n",
       "      <th></th>\n",
       "    </tr>\n",
       "  </thead>\n",
       "  <tbody>\n",
       "  </tbody>\n",
       "</table>\n",
       "</div>"
      ],
      "text/plain": [
       "Empty DataFrame\n",
       "Columns: []\n",
       "Index: []"
      ]
     },
     "execution_count": 190,
     "metadata": {},
     "output_type": "execute_result"
    }
   ],
   "source": [
    "api.get_quotes(\"APPL\",\"2021-06-08\",\"2021-06-08\",limit=10).df"
   ]
  },
  {
   "cell_type": "code",
   "execution_count": 191,
   "id": "5b7caee2",
   "metadata": {},
   "outputs": [],
   "source": [
    "def process_quote(quote):\n",
    "    print(quote)"
   ]
  },
  {
   "cell_type": "code",
   "execution_count": 192,
   "id": "db444611",
   "metadata": {},
   "outputs": [],
   "source": [
    "quote_iter=api.get_quotes_iter(\"APPL\",\"2021-06-08\",\"2021-06-08\",limit=10)\n",
    "for quote in quote_iter:\n",
    "    process_quote(quote)"
   ]
  },
  {
   "cell_type": "code",
   "execution_count": 193,
   "id": "d2af507d",
   "metadata": {},
   "outputs": [
    {
     "data": {
      "text/html": [
       "<div>\n",
       "<style scoped>\n",
       "    .dataframe tbody tr th:only-of-type {\n",
       "        vertical-align: middle;\n",
       "    }\n",
       "\n",
       "    .dataframe tbody tr th {\n",
       "        vertical-align: top;\n",
       "    }\n",
       "\n",
       "    .dataframe thead th {\n",
       "        text-align: right;\n",
       "    }\n",
       "</style>\n",
       "<table border=\"1\" class=\"dataframe\">\n",
       "  <thead>\n",
       "    <tr style=\"text-align: right;\">\n",
       "      <th></th>\n",
       "    </tr>\n",
       "  </thead>\n",
       "  <tbody>\n",
       "  </tbody>\n",
       "</table>\n",
       "</div>"
      ],
      "text/plain": [
       "Empty DataFrame\n",
       "Columns: []\n",
       "Index: []"
      ]
     },
     "execution_count": 193,
     "metadata": {},
     "output_type": "execute_result"
    }
   ],
   "source": [
    "api.get_trades(\"APPL\",\"2021-06-08\",\"2021-06-08\",limit=10).df"
   ]
  },
  {
   "cell_type": "code",
   "execution_count": 194,
   "id": "b28e078b",
   "metadata": {},
   "outputs": [],
   "source": [
    "def process_trade(trade):\n",
    "    print(trade)"
   ]
  },
  {
   "cell_type": "code",
   "execution_count": 195,
   "id": "04dd4748",
   "metadata": {},
   "outputs": [],
   "source": [
    "trades_iter = api.get_trades_iter(\"APPL\",\"2021-06-08\",\"2021-06-08\",limit=10)\n",
    "for trade in trades_iter:\n",
    "    process_trade(trade)"
   ]
  },
  {
   "cell_type": "code",
   "execution_count": 196,
   "id": "e7e5e6ce",
   "metadata": {},
   "outputs": [
    {
     "ename": "SyntaxError",
     "evalue": "invalid syntax (2782138679.py, line 8)",
     "output_type": "error",
     "traceback": [
      "\u001b[0;36m  File \u001b[0;32m\"/var/folders/hw/r_q5t6hd2r71fj7t3zwm74kc0000gn/T/ipykernel_90122/2782138679.py\"\u001b[0;36m, line \u001b[0;32m8\u001b[0m\n\u001b[0;31m    stream = Stream(<alpaca_api_key>,<alpaca_secret_key>,base_url=URL(\"https://paper-api.alpaca.markets\"),data_feed='iex')\u001b[0m\n\u001b[0m                    ^\u001b[0m\n\u001b[0;31mSyntaxError\u001b[0m\u001b[0;31m:\u001b[0m invalid syntax\n"
     ]
    }
   ],
   "source": [
    "async def trade_callback(t):\n",
    "    print('trade',t)\n",
    "    \n",
    "async def quote_callback(q):\n",
    "    print(\"quote\",q)\n",
    "    \n",
    "#class instance\n",
    "stream = Stream(<alpaca_api_key>,<alpaca_secret_key>,base_url=URL(\"https://paper-api.alpaca.markets\"), data_feed='iex')\n",
    "\n",
    "stream.subscribe_trades(trade_callback,\"APPL\")\n",
    "stream.subscribe_quotes(quote_callback,\"IBM\")\n",
    "\n",
    "stream.run()"
   ]
  },
  {
   "cell_type": "code",
   "execution_count": null,
   "id": "5402475c",
   "metadata": {},
   "outputs": [],
   "source": []
  },
  {
   "cell_type": "code",
   "execution_count": null,
   "id": "4346c746",
   "metadata": {},
   "outputs": [],
   "source": []
  },
  {
   "cell_type": "code",
   "execution_count": 174,
   "id": "6ae64780",
   "metadata": {},
   "outputs": [
    {
     "ename": "AttributeError",
     "evalue": "'BarsV2' object has no attribute 'columns'",
     "output_type": "error",
     "traceback": [
      "\u001b[0;31m---------------------------------------------------------------------------\u001b[0m",
      "\u001b[0;31mAttributeError\u001b[0m                            Traceback (most recent call last)",
      "\u001b[0;32m/var/folders/hw/r_q5t6hd2r71fj7t3zwm74kc0000gn/T/ipykernel_90122/3785466300.py\u001b[0m in \u001b[0;36m<module>\u001b[0;34m\u001b[0m\n\u001b[0;32m----> 1\u001b[0;31m \u001b[0mapple_data\u001b[0m\u001b[0;34m.\u001b[0m\u001b[0mcolumns\u001b[0m \u001b[0;34m=\u001b[0m \u001b[0mapple_data\u001b[0m\u001b[0;34m.\u001b[0m\u001b[0mcolumns\u001b[0m\u001b[0;34m.\u001b[0m\u001b[0mto_flat_index\u001b[0m\u001b[0;34m(\u001b[0m\u001b[0;34m)\u001b[0m\u001b[0;34m\u001b[0m\u001b[0;34m\u001b[0m\u001b[0m\n\u001b[0m\u001b[1;32m      2\u001b[0m \u001b[0mapple_data\u001b[0m\u001b[0;34m.\u001b[0m\u001b[0mcolumns\u001b[0m \u001b[0;34m=\u001b[0m \u001b[0;34m[\u001b[0m\u001b[0mx\u001b[0m\u001b[0;34m[\u001b[0m\u001b[0;36m1\u001b[0m\u001b[0;34m]\u001b[0m \u001b[0;32mfor\u001b[0m \u001b[0mx\u001b[0m \u001b[0;32min\u001b[0m \u001b[0mapple_data\u001b[0m\u001b[0;34m.\u001b[0m\u001b[0mcolumns\u001b[0m\u001b[0;34m]\u001b[0m\u001b[0;34m\u001b[0m\u001b[0;34m\u001b[0m\u001b[0m\n\u001b[1;32m      3\u001b[0m \u001b[0mapple_data\u001b[0m\u001b[0;34m.\u001b[0m\u001b[0mreset_index\u001b[0m\u001b[0;34m(\u001b[0m\u001b[0minplace\u001b[0m\u001b[0;34m=\u001b[0m\u001b[0;32mTrue\u001b[0m\u001b[0;34m)\u001b[0m\u001b[0;34m\u001b[0m\u001b[0;34m\u001b[0m\u001b[0m\n\u001b[1;32m      4\u001b[0m \u001b[0mprint\u001b[0m\u001b[0;34m(\u001b[0m\u001b[0mapple_data\u001b[0m\u001b[0;34m.\u001b[0m\u001b[0mhead\u001b[0m\u001b[0;34m(\u001b[0m\u001b[0;34m)\u001b[0m\u001b[0;34m)\u001b[0m\u001b[0;34m\u001b[0m\u001b[0;34m\u001b[0m\u001b[0m\n",
      "\u001b[0;31mAttributeError\u001b[0m: 'BarsV2' object has no attribute 'columns'"
     ]
    }
   ],
   "source": []
  },
  {
   "cell_type": "code",
   "execution_count": 116,
   "id": "e9aa9672",
   "metadata": {},
   "outputs": [
    {
     "ename": "AttributeError",
     "evalue": "'generator' object has no attribute 'plot'",
     "output_type": "error",
     "traceback": [
      "\u001b[0;31m---------------------------------------------------------------------------\u001b[0m",
      "\u001b[0;31mAttributeError\u001b[0m                            Traceback (most recent call last)",
      "\u001b[0;32m/var/folders/hw/r_q5t6hd2r71fj7t3zwm74kc0000gn/T/ipykernel_90122/2095680927.py\u001b[0m in \u001b[0;36m<module>\u001b[0;34m\u001b[0m\n\u001b[0;32m----> 1\u001b[0;31m \u001b[0mplot\u001b[0m \u001b[0;34m=\u001b[0m \u001b[0mapple_data\u001b[0m\u001b[0;34m.\u001b[0m\u001b[0mplot\u001b[0m\u001b[0;34m(\u001b[0m\u001b[0mx\u001b[0m \u001b[0;34m=\u001b[0m \u001b[0;34m\"time\"\u001b[0m\u001b[0;34m,\u001b[0m \u001b[0my\u001b[0m \u001b[0;34m=\u001b[0m \u001b[0;34m\"close\"\u001b[0m\u001b[0;34m,\u001b[0m \u001b[0mlegend\u001b[0m \u001b[0;34m=\u001b[0m \u001b[0;32mFalse\u001b[0m\u001b[0;34m)\u001b[0m\u001b[0;34m\u001b[0m\u001b[0;34m\u001b[0m\u001b[0m\n\u001b[0m\u001b[1;32m      2\u001b[0m \u001b[0mplot\u001b[0m\u001b[0;34m.\u001b[0m\u001b[0mset_xlabel\u001b[0m\u001b[0;34m(\u001b[0m\u001b[0;34m\"Date\"\u001b[0m\u001b[0;34m)\u001b[0m\u001b[0;34m\u001b[0m\u001b[0;34m\u001b[0m\u001b[0m\n\u001b[1;32m      3\u001b[0m \u001b[0mplot\u001b[0m\u001b[0;34m.\u001b[0m\u001b[0mset_ylabel\u001b[0m\u001b[0;34m(\u001b[0m\u001b[0;34m\"Apple close ($)\"\u001b[0m\u001b[0;34m)\u001b[0m\u001b[0;34m\u001b[0m\u001b[0;34m\u001b[0m\u001b[0m\n\u001b[1;32m      4\u001b[0m \u001b[0mplt\u001b[0m\u001b[0;34m.\u001b[0m\u001b[0mshow\u001b[0m\u001b[0;34m(\u001b[0m\u001b[0;34m)\u001b[0m\u001b[0;34m\u001b[0m\u001b[0;34m\u001b[0m\u001b[0m\n",
      "\u001b[0;31mAttributeError\u001b[0m: 'generator' object has no attribute 'plot'"
     ]
    }
   ],
   "source": [
    "plot = apple_data.plot(x = \"time\", y = \"close\", legend = False)\n",
    "plot.set_xlabel(\"Date\")\n",
    "plot.set_ylabel(\"Apple close ($)\")\n",
    "plt.show()"
   ]
  }
 ],
 "metadata": {
  "kernelspec": {
   "display_name": "Python 3 (ipykernel)",
   "language": "python",
   "name": "python3"
  },
  "language_info": {
   "codemirror_mode": {
    "name": "ipython",
    "version": 3
   },
   "file_extension": ".py",
   "mimetype": "text/x-python",
   "name": "python",
   "nbconvert_exporter": "python",
   "pygments_lexer": "ipython3",
   "version": "3.9.13"
  }
 },
 "nbformat": 4,
 "nbformat_minor": 5
}
