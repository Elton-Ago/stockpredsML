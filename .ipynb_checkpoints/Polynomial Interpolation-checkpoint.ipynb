{
 "cells": [
  {
   "cell_type": "code",
   "execution_count": 46,
   "metadata": {
    "collapsed": false
   },
   "outputs": [],
   "source": [
    "import numpy as np\n",
    "import scipy as sp\n",
    "from scipy.linalg import solve\n",
    "import pandas as pd\n",
    "import matplotlib.pyplot as plt\n",
    "from numpy.polynomial import Polynomial as Poly\n",
    "from scipy.interpolate import interpolate"
   ]
  },
  {
   "cell_type": "code",
   "execution_count": 57,
   "metadata": {
    "collapsed": false
   },
   "outputs": [],
   "source": [
    "import yfinance as yf\n",
    "import os\n",
    "import datetime\n",
    "import pandas_datareader as data\n",
    "from pandas import Series, DataFrame"
   ]
  },
  {
   "cell_type": "code",
   "execution_count": 48,
   "metadata": {
    "collapsed": false
   },
   "outputs": [],
   "source": [
    "apple = yf.Ticker(\"AAPL\")\n",
    "apple_hist = apple.history(period=\"max\")\n",
    "data_path = \"aapl_data.json\"\n",
    "\n",
    "if os.path.exists(data_path):\n",
    "    with open(data_path) as f:\n",
    "        apple_hist = pd.read_json(data_path)\n",
    "else:\n",
    "    apple = yf.Ticker(\"AAPL\")\n",
    "    apple_hist = apple.history(period=\"max\")\n",
    "    apple_hist.to_json(data_path)"
   ]
  },
  {
   "cell_type": "code",
   "execution_count": 49,
   "metadata": {
    "collapsed": false
   },
   "outputs": [
    {
     "data": {
      "text/html": [
       "<div>\n",
       "<style scoped>\n",
       "    .dataframe tbody tr th:only-of-type {\n",
       "        vertical-align: middle;\n",
       "    }\n",
       "\n",
       "    .dataframe tbody tr th {\n",
       "        vertical-align: top;\n",
       "    }\n",
       "\n",
       "    .dataframe thead th {\n",
       "        text-align: right;\n",
       "    }\n",
       "</style>\n",
       "<table border=\"1\" class=\"dataframe\">\n",
       "  <thead>\n",
       "    <tr style=\"text-align: right;\">\n",
       "      <th></th>\n",
       "      <th>Open</th>\n",
       "      <th>High</th>\n",
       "      <th>Low</th>\n",
       "      <th>Close</th>\n",
       "      <th>Volume</th>\n",
       "      <th>Dividends</th>\n",
       "      <th>Stock Splits</th>\n",
       "    </tr>\n",
       "  </thead>\n",
       "  <tbody>\n",
       "    <tr>\n",
       "      <th>1980-12-12</th>\n",
       "      <td>0.099722</td>\n",
       "      <td>0.100155</td>\n",
       "      <td>0.099722</td>\n",
       "      <td>0.099722</td>\n",
       "      <td>469033600</td>\n",
       "      <td>0.0</td>\n",
       "      <td>0</td>\n",
       "    </tr>\n",
       "    <tr>\n",
       "      <th>1980-12-15</th>\n",
       "      <td>0.094953</td>\n",
       "      <td>0.094953</td>\n",
       "      <td>0.094519</td>\n",
       "      <td>0.094519</td>\n",
       "      <td>175884800</td>\n",
       "      <td>0.0</td>\n",
       "      <td>0</td>\n",
       "    </tr>\n",
       "    <tr>\n",
       "      <th>1980-12-16</th>\n",
       "      <td>0.088015</td>\n",
       "      <td>0.088015</td>\n",
       "      <td>0.087582</td>\n",
       "      <td>0.087582</td>\n",
       "      <td>105728000</td>\n",
       "      <td>0.0</td>\n",
       "      <td>0</td>\n",
       "    </tr>\n",
       "    <tr>\n",
       "      <th>1980-12-17</th>\n",
       "      <td>0.089749</td>\n",
       "      <td>0.090183</td>\n",
       "      <td>0.089749</td>\n",
       "      <td>0.089749</td>\n",
       "      <td>86441600</td>\n",
       "      <td>0.0</td>\n",
       "      <td>0</td>\n",
       "    </tr>\n",
       "    <tr>\n",
       "      <th>1980-12-18</th>\n",
       "      <td>0.092351</td>\n",
       "      <td>0.092785</td>\n",
       "      <td>0.092351</td>\n",
       "      <td>0.092351</td>\n",
       "      <td>73449600</td>\n",
       "      <td>0.0</td>\n",
       "      <td>0</td>\n",
       "    </tr>\n",
       "    <tr>\n",
       "      <th>...</th>\n",
       "      <td>...</td>\n",
       "      <td>...</td>\n",
       "      <td>...</td>\n",
       "      <td>...</td>\n",
       "      <td>...</td>\n",
       "      <td>...</td>\n",
       "      <td>...</td>\n",
       "    </tr>\n",
       "    <tr>\n",
       "      <th>2023-02-15</th>\n",
       "      <td>153.110001</td>\n",
       "      <td>155.500000</td>\n",
       "      <td>152.880005</td>\n",
       "      <td>155.330002</td>\n",
       "      <td>65669300</td>\n",
       "      <td>0.0</td>\n",
       "      <td>0</td>\n",
       "    </tr>\n",
       "    <tr>\n",
       "      <th>2023-02-16</th>\n",
       "      <td>153.509995</td>\n",
       "      <td>156.330002</td>\n",
       "      <td>153.350006</td>\n",
       "      <td>153.710007</td>\n",
       "      <td>68167900</td>\n",
       "      <td>0.0</td>\n",
       "      <td>0</td>\n",
       "    </tr>\n",
       "    <tr>\n",
       "      <th>2023-02-17</th>\n",
       "      <td>152.350006</td>\n",
       "      <td>153.000000</td>\n",
       "      <td>150.850006</td>\n",
       "      <td>152.550003</td>\n",
       "      <td>59095900</td>\n",
       "      <td>0.0</td>\n",
       "      <td>0</td>\n",
       "    </tr>\n",
       "    <tr>\n",
       "      <th>2023-02-21</th>\n",
       "      <td>150.199997</td>\n",
       "      <td>151.300003</td>\n",
       "      <td>148.410004</td>\n",
       "      <td>148.479996</td>\n",
       "      <td>58867200</td>\n",
       "      <td>0.0</td>\n",
       "      <td>0</td>\n",
       "    </tr>\n",
       "    <tr>\n",
       "      <th>2023-02-22</th>\n",
       "      <td>148.869995</td>\n",
       "      <td>149.949997</td>\n",
       "      <td>147.160004</td>\n",
       "      <td>148.910004</td>\n",
       "      <td>50828522</td>\n",
       "      <td>0.0</td>\n",
       "      <td>0</td>\n",
       "    </tr>\n",
       "  </tbody>\n",
       "</table>\n",
       "<p>10638 rows × 7 columns</p>\n",
       "</div>"
      ],
      "text/plain": [
       "                  Open        High         Low       Close     Volume  \\\n",
       "1980-12-12    0.099722    0.100155    0.099722    0.099722  469033600   \n",
       "1980-12-15    0.094953    0.094953    0.094519    0.094519  175884800   \n",
       "1980-12-16    0.088015    0.088015    0.087582    0.087582  105728000   \n",
       "1980-12-17    0.089749    0.090183    0.089749    0.089749   86441600   \n",
       "1980-12-18    0.092351    0.092785    0.092351    0.092351   73449600   \n",
       "...                ...         ...         ...         ...        ...   \n",
       "2023-02-15  153.110001  155.500000  152.880005  155.330002   65669300   \n",
       "2023-02-16  153.509995  156.330002  153.350006  153.710007   68167900   \n",
       "2023-02-17  152.350006  153.000000  150.850006  152.550003   59095900   \n",
       "2023-02-21  150.199997  151.300003  148.410004  148.479996   58867200   \n",
       "2023-02-22  148.869995  149.949997  147.160004  148.910004   50828522   \n",
       "\n",
       "            Dividends  Stock Splits  \n",
       "1980-12-12        0.0             0  \n",
       "1980-12-15        0.0             0  \n",
       "1980-12-16        0.0             0  \n",
       "1980-12-17        0.0             0  \n",
       "1980-12-18        0.0             0  \n",
       "...               ...           ...  \n",
       "2023-02-15        0.0             0  \n",
       "2023-02-16        0.0             0  \n",
       "2023-02-17        0.0             0  \n",
       "2023-02-21        0.0             0  \n",
       "2023-02-22        0.0             0  \n",
       "\n",
       "[10638 rows x 7 columns]"
      ]
     },
     "execution_count": 49,
     "metadata": {},
     "output_type": "execute_result"
    }
   ],
   "source": [
    "apple_hist"
   ]
  },
  {
   "cell_type": "code",
   "execution_count": 50,
   "metadata": {
    "collapsed": false
   },
   "outputs": [
    {
     "data": {
      "text/html": [
       "<div>\n",
       "<style scoped>\n",
       "    .dataframe tbody tr th:only-of-type {\n",
       "        vertical-align: middle;\n",
       "    }\n",
       "\n",
       "    .dataframe tbody tr th {\n",
       "        vertical-align: top;\n",
       "    }\n",
       "\n",
       "    .dataframe thead th {\n",
       "        text-align: right;\n",
       "    }\n",
       "</style>\n",
       "<table border=\"1\" class=\"dataframe\">\n",
       "  <thead>\n",
       "    <tr style=\"text-align: right;\">\n",
       "      <th></th>\n",
       "      <th>Open</th>\n",
       "      <th>High</th>\n",
       "      <th>Low</th>\n",
       "      <th>Close</th>\n",
       "      <th>Volume</th>\n",
       "      <th>Dividends</th>\n",
       "      <th>Stock Splits</th>\n",
       "    </tr>\n",
       "  </thead>\n",
       "  <tbody>\n",
       "    <tr>\n",
       "      <th>2023-02-15</th>\n",
       "      <td>153.110001</td>\n",
       "      <td>155.500000</td>\n",
       "      <td>152.880005</td>\n",
       "      <td>155.330002</td>\n",
       "      <td>65669300</td>\n",
       "      <td>0.0</td>\n",
       "      <td>0</td>\n",
       "    </tr>\n",
       "    <tr>\n",
       "      <th>2023-02-16</th>\n",
       "      <td>153.509995</td>\n",
       "      <td>156.330002</td>\n",
       "      <td>153.350006</td>\n",
       "      <td>153.710007</td>\n",
       "      <td>68167900</td>\n",
       "      <td>0.0</td>\n",
       "      <td>0</td>\n",
       "    </tr>\n",
       "    <tr>\n",
       "      <th>2023-02-17</th>\n",
       "      <td>152.350006</td>\n",
       "      <td>153.000000</td>\n",
       "      <td>150.850006</td>\n",
       "      <td>152.550003</td>\n",
       "      <td>59095900</td>\n",
       "      <td>0.0</td>\n",
       "      <td>0</td>\n",
       "    </tr>\n",
       "    <tr>\n",
       "      <th>2023-02-21</th>\n",
       "      <td>150.199997</td>\n",
       "      <td>151.300003</td>\n",
       "      <td>148.410004</td>\n",
       "      <td>148.479996</td>\n",
       "      <td>58867200</td>\n",
       "      <td>0.0</td>\n",
       "      <td>0</td>\n",
       "    </tr>\n",
       "    <tr>\n",
       "      <th>2023-02-22</th>\n",
       "      <td>148.869995</td>\n",
       "      <td>149.949997</td>\n",
       "      <td>147.160004</td>\n",
       "      <td>148.910004</td>\n",
       "      <td>50828522</td>\n",
       "      <td>0.0</td>\n",
       "      <td>0</td>\n",
       "    </tr>\n",
       "  </tbody>\n",
       "</table>\n",
       "</div>"
      ],
      "text/plain": [
       "                  Open        High         Low       Close    Volume  \\\n",
       "2023-02-15  153.110001  155.500000  152.880005  155.330002  65669300   \n",
       "2023-02-16  153.509995  156.330002  153.350006  153.710007  68167900   \n",
       "2023-02-17  152.350006  153.000000  150.850006  152.550003  59095900   \n",
       "2023-02-21  150.199997  151.300003  148.410004  148.479996  58867200   \n",
       "2023-02-22  148.869995  149.949997  147.160004  148.910004  50828522   \n",
       "\n",
       "            Dividends  Stock Splits  \n",
       "2023-02-15        0.0             0  \n",
       "2023-02-16        0.0             0  \n",
       "2023-02-17        0.0             0  \n",
       "2023-02-21        0.0             0  \n",
       "2023-02-22        0.0             0  "
      ]
     },
     "execution_count": 50,
     "metadata": {},
     "output_type": "execute_result"
    }
   ],
   "source": [
    "apple_hist.tail(5)"
   ]
  },
  {
   "cell_type": "code",
   "execution_count": 51,
   "metadata": {
    "collapsed": false
   },
   "outputs": [
    {
     "data": {
      "text/plain": [
       "<AxesSubplot: >"
      ]
     },
     "execution_count": 51,
     "metadata": {},
     "output_type": "execute_result"
    },
    {
     "data": {
      "image/png": "[encoded data removed]",
      "text/plain": [
       "<Figure size 864x504 with 1 Axes>"
      ]
     },
     "execution_count": 51,
     "metadata": {
      "image/png": {
       "height": 401,
       "width": 737
      },
      "needs_background": "light"
     },
     "output_type": "execute_result"
    }
   ],
   "source": [
    "apple_hist.tail(30).plot.line(y=\"Close\", use_index=True)"
   ]
  },
  {
   "cell_type": "code",
   "execution_count": 52,
   "metadata": {
    "collapsed": false
   },
   "outputs": [
    {
     "name": "stdout",
     "output_type": "stream",
     "text": [
      "\r[*********************100%***********************]  1 of 1 completed"
     ]
    },
    {
     "name": "stdout",
     "output_type": "stream",
     "text": [
      "\n"
     ]
    }
   ],
   "source": [
    "start_date = '2022-01-01'\n",
    "end_date = '2023-01-01'\n",
    "\n",
    "symbol = 'AAPL'\n",
    "apple_data = yf.download(symbol, start_date, end_date)"
   ]
  },
  {
   "cell_type": "code",
   "execution_count": 53,
   "metadata": {
    "collapsed": false,
    "scrolled": true
   },
   "outputs": [
    {
     "data": {
      "text/html": [
       "<div>\n",
       "<style scoped>\n",
       "    .dataframe tbody tr th:only-of-type {\n",
       "        vertical-align: middle;\n",
       "    }\n",
       "\n",
       "    .dataframe tbody tr th {\n",
       "        vertical-align: top;\n",
       "    }\n",
       "\n",
       "    .dataframe thead th {\n",
       "        text-align: right;\n",
       "    }\n",
       "</style>\n",
       "<table border=\"1\" class=\"dataframe\">\n",
       "  <thead>\n",
       "    <tr style=\"text-align: right;\">\n",
       "      <th></th>\n",
       "      <th>Open</th>\n",
       "      <th>High</th>\n",
       "      <th>Low</th>\n",
       "      <th>Close</th>\n",
       "      <th>Adj Close</th>\n",
       "      <th>Volume</th>\n",
       "    </tr>\n",
       "    <tr>\n",
       "      <th>Date</th>\n",
       "      <th></th>\n",
       "      <th></th>\n",
       "      <th></th>\n",
       "      <th></th>\n",
       "      <th></th>\n",
       "      <th></th>\n",
       "    </tr>\n",
       "  </thead>\n",
       "  <tbody>\n",
       "    <tr>\n",
       "      <th>2022-01-03</th>\n",
       "      <td>177.830002</td>\n",
       "      <td>182.880005</td>\n",
       "      <td>177.710007</td>\n",
       "      <td>182.009995</td>\n",
       "      <td>180.683853</td>\n",
       "      <td>104487900</td>\n",
       "    </tr>\n",
       "    <tr>\n",
       "      <th>2022-01-04</th>\n",
       "      <td>182.630005</td>\n",
       "      <td>182.940002</td>\n",
       "      <td>179.119995</td>\n",
       "      <td>179.699997</td>\n",
       "      <td>178.390701</td>\n",
       "      <td>99310400</td>\n",
       "    </tr>\n",
       "    <tr>\n",
       "      <th>2022-01-05</th>\n",
       "      <td>179.610001</td>\n",
       "      <td>180.169998</td>\n",
       "      <td>174.639999</td>\n",
       "      <td>174.919998</td>\n",
       "      <td>173.645538</td>\n",
       "      <td>94537600</td>\n",
       "    </tr>\n",
       "    <tr>\n",
       "      <th>2022-01-06</th>\n",
       "      <td>172.699997</td>\n",
       "      <td>175.300003</td>\n",
       "      <td>171.639999</td>\n",
       "      <td>172.000000</td>\n",
       "      <td>170.746811</td>\n",
       "      <td>96904000</td>\n",
       "    </tr>\n",
       "    <tr>\n",
       "      <th>2022-01-07</th>\n",
       "      <td>172.889999</td>\n",
       "      <td>174.139999</td>\n",
       "      <td>171.029999</td>\n",
       "      <td>172.169998</td>\n",
       "      <td>170.915558</td>\n",
       "      <td>86709100</td>\n",
       "    </tr>\n",
       "    <tr>\n",
       "      <th>...</th>\n",
       "      <td>...</td>\n",
       "      <td>...</td>\n",
       "      <td>...</td>\n",
       "      <td>...</td>\n",
       "      <td>...</td>\n",
       "      <td>...</td>\n",
       "    </tr>\n",
       "    <tr>\n",
       "      <th>2022-12-23</th>\n",
       "      <td>130.919998</td>\n",
       "      <td>132.419998</td>\n",
       "      <td>129.639999</td>\n",
       "      <td>131.860001</td>\n",
       "      <td>131.658981</td>\n",
       "      <td>63814900</td>\n",
       "    </tr>\n",
       "    <tr>\n",
       "      <th>2022-12-27</th>\n",
       "      <td>131.380005</td>\n",
       "      <td>131.410004</td>\n",
       "      <td>128.720001</td>\n",
       "      <td>130.029999</td>\n",
       "      <td>129.831772</td>\n",
       "      <td>69007800</td>\n",
       "    </tr>\n",
       "    <tr>\n",
       "      <th>2022-12-28</th>\n",
       "      <td>129.669998</td>\n",
       "      <td>131.029999</td>\n",
       "      <td>125.870003</td>\n",
       "      <td>126.040001</td>\n",
       "      <td>125.847855</td>\n",
       "      <td>85438400</td>\n",
       "    </tr>\n",
       "    <tr>\n",
       "      <th>2022-12-29</th>\n",
       "      <td>127.989998</td>\n",
       "      <td>130.479996</td>\n",
       "      <td>127.730003</td>\n",
       "      <td>129.610001</td>\n",
       "      <td>129.412415</td>\n",
       "      <td>75703700</td>\n",
       "    </tr>\n",
       "    <tr>\n",
       "      <th>2022-12-30</th>\n",
       "      <td>128.410004</td>\n",
       "      <td>129.949997</td>\n",
       "      <td>127.430000</td>\n",
       "      <td>129.929993</td>\n",
       "      <td>129.731918</td>\n",
       "      <td>76960600</td>\n",
       "    </tr>\n",
       "  </tbody>\n",
       "</table>\n",
       "<p>251 rows × 6 columns</p>\n",
       "</div>"
      ],
      "text/plain": [
       "                  Open        High         Low       Close   Adj Close  \\\n",
       "Date                                                                     \n",
       "2022-01-03  177.830002  182.880005  177.710007  182.009995  180.683853   \n",
       "2022-01-04  182.630005  182.940002  179.119995  179.699997  178.390701   \n",
       "2022-01-05  179.610001  180.169998  174.639999  174.919998  173.645538   \n",
       "2022-01-06  172.699997  175.300003  171.639999  172.000000  170.746811   \n",
       "2022-01-07  172.889999  174.139999  171.029999  172.169998  170.915558   \n",
       "...                ...         ...         ...         ...         ...   \n",
       "2022-12-23  130.919998  132.419998  129.639999  131.860001  131.658981   \n",
       "2022-12-27  131.380005  131.410004  128.720001  130.029999  129.831772   \n",
       "2022-12-28  129.669998  131.029999  125.870003  126.040001  125.847855   \n",
       "2022-12-29  127.989998  130.479996  127.730003  129.610001  129.412415   \n",
       "2022-12-30  128.410004  129.949997  127.430000  129.929993  129.731918   \n",
       "\n",
       "               Volume  \n",
       "Date                   \n",
       "2022-01-03  104487900  \n",
       "2022-01-04   99310400  \n",
       "2022-01-05   94537600  \n",
       "2022-01-06   96904000  \n",
       "2022-01-07   86709100  \n",
       "...               ...  \n",
       "2022-12-23   63814900  \n",
       "2022-12-27   69007800  \n",
       "2022-12-28   85438400  \n",
       "2022-12-29   75703700  \n",
       "2022-12-30   76960600  \n",
       "\n",
       "[251 rows x 6 columns]"
      ]
     },
     "execution_count": 53,
     "metadata": {},
     "output_type": "execute_result"
    }
   ],
   "source": [
    "apple_data"
   ]
  },
  {
   "cell_type": "code",
   "execution_count": 87,
   "metadata": {
    "collapsed": false
   },
   "outputs": [
    {
     "data": {
      "text/plain": [
       "Date\n",
       "2022-01-03    180.683853\n",
       "Name: Adj Close, dtype: float64"
      ]
     },
     "execution_count": 87,
     "metadata": {},
     "output_type": "execute_result"
    }
   ],
   "source": [
    "apple_data.iloc[:1,4]"
   ]
  },
  {
   "cell_type": "code",
   "execution_count": 120,
   "metadata": {
    "collapsed": false
   },
   "outputs": [
    {
     "data": {
      "text/plain": [
       "Open         1.778300e+02\n",
       "High         1.828800e+02\n",
       "Low          1.777100e+02\n",
       "Close        1.820100e+02\n",
       "Adj Close    1.806839e+02\n",
       "Volume       1.044879e+08\n",
       "Name: 2022-01-03 00:00:00, dtype: float64"
      ]
     },
     "execution_count": 120,
     "metadata": {},
     "output_type": "execute_result"
    }
   ],
   "source": [
    "apple_data.loc['2022-01-03']"
   ]
  },
  {
   "cell_type": "code",
   "execution_count": 145,
   "metadata": {
    "collapsed": false
   },
   "outputs": [
    {
     "data": {
      "text/plain": [
       "0    180.683853\n",
       "Name: d, dtype: float64"
      ]
     },
     "execution_count": 145,
     "metadata": {},
     "output_type": "execute_result"
    }
   ],
   "source": [
    "apple_data.iloc[:1,5]"
   ]
  },
  {
   "cell_type": "code",
   "execution_count": 121,
   "metadata": {
    "collapsed": false
   },
   "outputs": [
    {
     "name": "stdout",
     "output_type": "stream",
     "text": [
      "        Date           p           i           o           l           d  \\\n",
      "0 2022-01-03  177.830002  182.880005  177.710007  182.009995  180.683853   \n",
      "1 2022-01-04  182.630005  182.940002  179.119995  179.699997  178.390701   \n",
      "2 2022-01-05  179.610001  180.169998  174.639999  174.919998  173.645538   \n",
      "3 2022-01-06  172.699997  175.300003  171.639999  172.000000  170.746811   \n",
      "4 2022-01-07  172.889999  174.139999  171.029999  172.169998  170.915558   \n",
      "\n",
      "           o  \n",
      "0  104487900  \n",
      "1   99310400  \n",
      "2   94537600  \n",
      "3   96904000  \n",
      "4   86709100  \n"
     ]
    }
   ],
   "source": [
    "apple_data.columns = apple_data.columns.to_flat_index()\n",
    "apple_data.columns = [x[1] for x in apple_data.columns]\n",
    "apple_data.reset_index(inplace=True)\n",
    "print(apple_data.head())"
   ]
  },
  {
   "cell_type": "code",
   "execution_count": 130,
   "metadata": {
    "collapsed": false
   },
   "outputs": [
    {
     "data": {
      "text/html": [
       "<div>\n",
       "<style scoped>\n",
       "    .dataframe tbody tr th:only-of-type {\n",
       "        vertical-align: middle;\n",
       "    }\n",
       "\n",
       "    .dataframe tbody tr th {\n",
       "        vertical-align: top;\n",
       "    }\n",
       "\n",
       "    .dataframe thead th {\n",
       "        text-align: right;\n",
       "    }\n",
       "</style>\n",
       "<table border=\"1\" class=\"dataframe\">\n",
       "  <thead>\n",
       "    <tr style=\"text-align: right;\">\n",
       "      <th></th>\n",
       "      <th>Date</th>\n",
       "      <th>p</th>\n",
       "      <th>i</th>\n",
       "      <th>o</th>\n",
       "      <th>l</th>\n",
       "      <th>d</th>\n",
       "      <th>o</th>\n",
       "    </tr>\n",
       "  </thead>\n",
       "  <tbody>\n",
       "    <tr>\n",
       "      <th>241</th>\n",
       "      <td>2022-12-16</td>\n",
       "      <td>136.690002</td>\n",
       "      <td>137.649994</td>\n",
       "      <td>133.729996</td>\n",
       "      <td>134.509995</td>\n",
       "      <td>134.304932</td>\n",
       "      <td>160156900</td>\n",
       "    </tr>\n",
       "    <tr>\n",
       "      <th>242</th>\n",
       "      <td>2022-12-19</td>\n",
       "      <td>135.110001</td>\n",
       "      <td>135.199997</td>\n",
       "      <td>131.320007</td>\n",
       "      <td>132.369995</td>\n",
       "      <td>132.168198</td>\n",
       "      <td>79592600</td>\n",
       "    </tr>\n",
       "    <tr>\n",
       "      <th>243</th>\n",
       "      <td>2022-12-20</td>\n",
       "      <td>131.389999</td>\n",
       "      <td>133.250000</td>\n",
       "      <td>129.889999</td>\n",
       "      <td>132.300003</td>\n",
       "      <td>132.098312</td>\n",
       "      <td>77432800</td>\n",
       "    </tr>\n",
       "    <tr>\n",
       "      <th>244</th>\n",
       "      <td>2022-12-21</td>\n",
       "      <td>132.979996</td>\n",
       "      <td>136.809998</td>\n",
       "      <td>132.750000</td>\n",
       "      <td>135.449997</td>\n",
       "      <td>135.243500</td>\n",
       "      <td>85928000</td>\n",
       "    </tr>\n",
       "    <tr>\n",
       "      <th>245</th>\n",
       "      <td>2022-12-22</td>\n",
       "      <td>134.350006</td>\n",
       "      <td>134.559998</td>\n",
       "      <td>130.300003</td>\n",
       "      <td>132.229996</td>\n",
       "      <td>132.028412</td>\n",
       "      <td>77852100</td>\n",
       "    </tr>\n",
       "    <tr>\n",
       "      <th>246</th>\n",
       "      <td>2022-12-23</td>\n",
       "      <td>130.919998</td>\n",
       "      <td>132.419998</td>\n",
       "      <td>129.639999</td>\n",
       "      <td>131.860001</td>\n",
       "      <td>131.658981</td>\n",
       "      <td>63814900</td>\n",
       "    </tr>\n",
       "    <tr>\n",
       "      <th>247</th>\n",
       "      <td>2022-12-27</td>\n",
       "      <td>131.380005</td>\n",
       "      <td>131.410004</td>\n",
       "      <td>128.720001</td>\n",
       "      <td>130.029999</td>\n",
       "      <td>129.831772</td>\n",
       "      <td>69007800</td>\n",
       "    </tr>\n",
       "    <tr>\n",
       "      <th>248</th>\n",
       "      <td>2022-12-28</td>\n",
       "      <td>129.669998</td>\n",
       "      <td>131.029999</td>\n",
       "      <td>125.870003</td>\n",
       "      <td>126.040001</td>\n",
       "      <td>125.847855</td>\n",
       "      <td>85438400</td>\n",
       "    </tr>\n",
       "    <tr>\n",
       "      <th>249</th>\n",
       "      <td>2022-12-29</td>\n",
       "      <td>127.989998</td>\n",
       "      <td>130.479996</td>\n",
       "      <td>127.730003</td>\n",
       "      <td>129.610001</td>\n",
       "      <td>129.412415</td>\n",
       "      <td>75703700</td>\n",
       "    </tr>\n",
       "    <tr>\n",
       "      <th>250</th>\n",
       "      <td>2022-12-30</td>\n",
       "      <td>128.410004</td>\n",
       "      <td>129.949997</td>\n",
       "      <td>127.430000</td>\n",
       "      <td>129.929993</td>\n",
       "      <td>129.731918</td>\n",
       "      <td>76960600</td>\n",
       "    </tr>\n",
       "  </tbody>\n",
       "</table>\n",
       "</div>"
      ],
      "text/plain": [
       "          Date           p           i           o           l           d  \\\n",
       "241 2022-12-16  136.690002  137.649994  133.729996  134.509995  134.304932   \n",
       "242 2022-12-19  135.110001  135.199997  131.320007  132.369995  132.168198   \n",
       "243 2022-12-20  131.389999  133.250000  129.889999  132.300003  132.098312   \n",
       "244 2022-12-21  132.979996  136.809998  132.750000  135.449997  135.243500   \n",
       "245 2022-12-22  134.350006  134.559998  130.300003  132.229996  132.028412   \n",
       "246 2022-12-23  130.919998  132.419998  129.639999  131.860001  131.658981   \n",
       "247 2022-12-27  131.380005  131.410004  128.720001  130.029999  129.831772   \n",
       "248 2022-12-28  129.669998  131.029999  125.870003  126.040001  125.847855   \n",
       "249 2022-12-29  127.989998  130.479996  127.730003  129.610001  129.412415   \n",
       "250 2022-12-30  128.410004  129.949997  127.430000  129.929993  129.731918   \n",
       "\n",
       "             o  \n",
       "241  160156900  \n",
       "242   79592600  \n",
       "243   77432800  \n",
       "244   85928000  \n",
       "245   77852100  \n",
       "246   63814900  \n",
       "247   69007800  \n",
       "248   85438400  \n",
       "249   75703700  \n",
       "250   76960600  "
      ]
     },
     "execution_count": 130,
     "metadata": {},
     "output_type": "execute_result"
    }
   ],
   "source": [
    "apple_data.tail(10)"
   ]
  },
  {
   "cell_type": "code",
   "execution_count": 214,
   "metadata": {
    "collapsed": false
   },
   "outputs": [],
   "source": [
    "dates = pd.Series([\"2022-12-16\",\"2022-12-19\",\"2022-12-20\",\"2022-12-21\",\"2022-12-22\",\"2022-12-23\",\"2022-12-27\",\"2022-12-28\",\"2022-12-29\",\"2022-12-30\"])"
   ]
  },
  {
   "cell_type": "code",
   "execution_count": 299,
   "metadata": {
    "collapsed": false
   },
   "outputs": [],
   "source": [
    "dates_a = pd.Series([1,2,3,4,5,6,7,8,9,10])"
   ]
  },
  {
   "cell_type": "code",
   "execution_count": 215,
   "metadata": {
    "collapsed": false
   },
   "outputs": [],
   "source": [
    "close_prices = pd.Series(apple_data.iloc[241:,5])"
   ]
  },
  {
   "cell_type": "code",
   "execution_count": 283,
   "metadata": {
    "collapsed": false
   },
   "outputs": [],
   "source": [
    "closing_prices = apple_data.iloc[241,5], apple_data.iloc[242,5], apple_data.iloc[243,5], apple_data.iloc[244,5], apple_data.iloc[245,5], apple_data.iloc[246,5], apple_data.iloc[247,5], apple_data.iloc[248,5], apple_data.iloc[249,5], apple_data.iloc[250,5]"
   ]
  },
  {
   "cell_type": "code",
   "execution_count": 284,
   "metadata": {
    "collapsed": false
   },
   "outputs": [
    {
     "name": "stdout",
     "output_type": "stream",
     "text": [
      "(134.304931640625, 132.16819763183594, 132.0983123779297, 135.24349975585938, 132.02841186523438, 131.6589813232422, 129.83177185058594, 125.84785461425781, 129.41241455078125, 129.73191833496094)\n"
     ]
    }
   ],
   "source": [
    "print(closing_prices)"
   ]
  },
  {
   "cell_type": "code",
   "execution_count": 285,
   "metadata": {
    "collapsed": false
   },
   "outputs": [
    {
     "data": {
      "text/html": [
       "<div>\n",
       "<style scoped>\n",
       "    .dataframe tbody tr th:only-of-type {\n",
       "        vertical-align: middle;\n",
       "    }\n",
       "\n",
       "    .dataframe tbody tr th {\n",
       "        vertical-align: top;\n",
       "    }\n",
       "\n",
       "    .dataframe thead th {\n",
       "        text-align: right;\n",
       "    }\n",
       "</style>\n",
       "<table border=\"1\" class=\"dataframe\">\n",
       "  <thead>\n",
       "    <tr style=\"text-align: right;\">\n",
       "      <th></th>\n",
       "      <th>dates</th>\n",
       "      <th>close_price</th>\n",
       "    </tr>\n",
       "  </thead>\n",
       "  <tbody>\n",
       "    <tr>\n",
       "      <th>0</th>\n",
       "      <td>2022-12-16</td>\n",
       "      <td>134.304932</td>\n",
       "    </tr>\n",
       "    <tr>\n",
       "      <th>1</th>\n",
       "      <td>2022-12-19</td>\n",
       "      <td>132.168198</td>\n",
       "    </tr>\n",
       "    <tr>\n",
       "      <th>2</th>\n",
       "      <td>2022-12-20</td>\n",
       "      <td>132.098312</td>\n",
       "    </tr>\n",
       "    <tr>\n",
       "      <th>3</th>\n",
       "      <td>2022-12-21</td>\n",
       "      <td>135.243500</td>\n",
       "    </tr>\n",
       "    <tr>\n",
       "      <th>4</th>\n",
       "      <td>2022-12-22</td>\n",
       "      <td>132.028412</td>\n",
       "    </tr>\n",
       "    <tr>\n",
       "      <th>5</th>\n",
       "      <td>2022-12-23</td>\n",
       "      <td>131.658981</td>\n",
       "    </tr>\n",
       "    <tr>\n",
       "      <th>6</th>\n",
       "      <td>2022-12-27</td>\n",
       "      <td>129.831772</td>\n",
       "    </tr>\n",
       "    <tr>\n",
       "      <th>7</th>\n",
       "      <td>2022-12-28</td>\n",
       "      <td>125.847855</td>\n",
       "    </tr>\n",
       "    <tr>\n",
       "      <th>8</th>\n",
       "      <td>2022-12-29</td>\n",
       "      <td>129.412415</td>\n",
       "    </tr>\n",
       "    <tr>\n",
       "      <th>9</th>\n",
       "      <td>2022-12-30</td>\n",
       "      <td>129.731918</td>\n",
       "    </tr>\n",
       "  </tbody>\n",
       "</table>\n",
       "</div>"
      ],
      "text/plain": [
       "        dates  close_price\n",
       "0  2022-12-16   134.304932\n",
       "1  2022-12-19   132.168198\n",
       "2  2022-12-20   132.098312\n",
       "3  2022-12-21   135.243500\n",
       "4  2022-12-22   132.028412\n",
       "5  2022-12-23   131.658981\n",
       "6  2022-12-27   129.831772\n",
       "7  2022-12-28   125.847855\n",
       "8  2022-12-29   129.412415\n",
       "9  2022-12-30   129.731918"
      ]
     },
     "execution_count": 285,
     "metadata": {},
     "output_type": "execute_result"
    }
   ],
   "source": [
    "apple_data_frame = pd.DataFrame({'dates': dates, 'close_price':closing_prices})\n",
    "\n",
    "apple_data_frame"
   ]
  },
  {
   "cell_type": "code",
   "execution_count": 286,
   "metadata": {
    "collapsed": false
   },
   "outputs": [
    {
     "data": {
      "image/png": "[encoded data removed]",
      "text/plain": [
       "<Figure size 864x720 with 1 Axes>"
      ]
     },
     "execution_count": 286,
     "metadata": {
      "image/png": {
       "height": 588,
       "width": 723
      },
      "needs_background": "light"
     },
     "output_type": "execute_result"
    }
   ],
   "source": [
    "plt.figure(figsize=(12,10))\n",
    "plt.scatter(apple_data_frame.dates, apple_data_frame.close_price)\n",
    "plt.xlabel(\"Date\")\n",
    "plt.ylabel(\"Price\")\n",
    "plt.show()"
   ]
  },
  {
   "cell_type": "code",
   "execution_count": 301,
   "metadata": {
    "collapsed": false,
    "scrolled": true
   },
   "outputs": [
    {
     "data": {
      "text/html": [
       "<div>\n",
       "<style scoped>\n",
       "    .dataframe tbody tr th:only-of-type {\n",
       "        vertical-align: middle;\n",
       "    }\n",
       "\n",
       "    .dataframe tbody tr th {\n",
       "        vertical-align: top;\n",
       "    }\n",
       "\n",
       "    .dataframe thead th {\n",
       "        text-align: right;\n",
       "    }\n",
       "</style>\n",
       "<table border=\"1\" class=\"dataframe\">\n",
       "  <thead>\n",
       "    <tr style=\"text-align: right;\">\n",
       "      <th></th>\n",
       "      <th>dates</th>\n",
       "      <th>close_price</th>\n",
       "    </tr>\n",
       "  </thead>\n",
       "  <tbody>\n",
       "    <tr>\n",
       "      <th>0</th>\n",
       "      <td>1</td>\n",
       "      <td>134.304932</td>\n",
       "    </tr>\n",
       "    <tr>\n",
       "      <th>1</th>\n",
       "      <td>2</td>\n",
       "      <td>132.168198</td>\n",
       "    </tr>\n",
       "    <tr>\n",
       "      <th>2</th>\n",
       "      <td>3</td>\n",
       "      <td>132.098312</td>\n",
       "    </tr>\n",
       "    <tr>\n",
       "      <th>3</th>\n",
       "      <td>4</td>\n",
       "      <td>135.243500</td>\n",
       "    </tr>\n",
       "    <tr>\n",
       "      <th>4</th>\n",
       "      <td>5</td>\n",
       "      <td>132.028412</td>\n",
       "    </tr>\n",
       "    <tr>\n",
       "      <th>5</th>\n",
       "      <td>6</td>\n",
       "      <td>131.658981</td>\n",
       "    </tr>\n",
       "    <tr>\n",
       "      <th>6</th>\n",
       "      <td>7</td>\n",
       "      <td>129.831772</td>\n",
       "    </tr>\n",
       "    <tr>\n",
       "      <th>7</th>\n",
       "      <td>8</td>\n",
       "      <td>125.847855</td>\n",
       "    </tr>\n",
       "    <tr>\n",
       "      <th>8</th>\n",
       "      <td>9</td>\n",
       "      <td>129.412415</td>\n",
       "    </tr>\n",
       "    <tr>\n",
       "      <th>9</th>\n",
       "      <td>10</td>\n",
       "      <td>129.731918</td>\n",
       "    </tr>\n",
       "  </tbody>\n",
       "</table>\n",
       "</div>"
      ],
      "text/plain": [
       "   dates  close_price\n",
       "0      1   134.304932\n",
       "1      2   132.168198\n",
       "2      3   132.098312\n",
       "3      4   135.243500\n",
       "4      5   132.028412\n",
       "5      6   131.658981\n",
       "6      7   129.831772\n",
       "7      8   125.847855\n",
       "8      9   129.412415\n",
       "9     10   129.731918"
      ]
     },
     "execution_count": 301,
     "metadata": {},
     "output_type": "execute_result"
    }
   ],
   "source": [
    "apple_dataF = pd.DataFrame({\"dates\": dates_a, 'close_price':closing_prices})\n",
    "\n",
    "apple_dataF"
   ]
  },
  {
   "cell_type": "code",
   "execution_count": 305,
   "metadata": {
    "collapsed": false
   },
   "outputs": [
    {
     "data": {
      "image/png": "[encoded data removed]",
      "text/plain": [
       "<Figure size 864x720 with 1 Axes>"
      ]
     },
     "execution_count": 305,
     "metadata": {
      "image/png": {
       "height": 588,
       "width": 723
      },
      "needs_background": "light"
     },
     "output_type": "execute_result"
    }
   ],
   "source": [
    "plt.figure(figsize=(12,10))\n",
    "plt.scatter(apple_dataF.dates, apple_dataF.close_price)\n",
    "plt.xlabel(\"Date\")\n",
    "plt.ylabel(\"Price\")\n",
    "plt.show()"
   ]
  },
  {
   "cell_type": "code",
   "execution_count": 306,
   "metadata": {
    "collapsed": false
   },
   "outputs": [],
   "source": [
    "vandermonde_matrix = np.vander(dates_a)"
   ]
  },
  {
   "cell_type": "code",
   "execution_count": 307,
   "metadata": {
    "collapsed": false
   },
   "outputs": [
    {
     "name": "stdout",
     "output_type": "stream",
     "text": [
      "[[         1          1          1          1          1          1\n",
      "           1          1          1          1]\n",
      " [       512        256        128         64         32         16\n",
      "           8          4          2          1]\n",
      " [     19683       6561       2187        729        243         81\n",
      "          27          9          3          1]\n",
      " [    262144      65536      16384       4096       1024        256\n",
      "          64         16          4          1]\n",
      " [   1953125     390625      78125      15625       3125        625\n",
      "         125         25          5          1]\n",
      " [  10077696    1679616     279936      46656       7776       1296\n",
      "         216         36          6          1]\n",
      " [  40353607    5764801     823543     117649      16807       2401\n",
      "         343         49          7          1]\n",
      " [ 134217728   16777216    2097152     262144      32768       4096\n",
      "         512         64          8          1]\n",
      " [ 387420489   43046721    4782969     531441      59049       6561\n",
      "         729         81          9          1]\n",
      " [1000000000  100000000   10000000    1000000     100000      10000\n",
      "        1000        100         10          1]]\n"
     ]
    }
   ],
   "source": [
    "print(vandermonde_matrix)"
   ]
  },
  {
   "cell_type": "code",
   "execution_count": 309,
   "metadata": {
    "collapsed": false
   },
   "outputs": [
    {
     "name": "stdout",
     "output_type": "stream",
     "text": [
      "[ 5.60100999e-04 -2.94436031e-02  6.61957459e-01 -8.31108519e+00\n",
      "  6.38203269e+01 -3.08410934e+02  9.28544196e+02 -1.65776092e+03\n",
      "  1.56582221e+03 -4.50031937e+02] ---coefficients we get from solving the vandermonde of dates with values of close price\n"
     ]
    }
   ],
   "source": [
    "coefficients = sp.linalg.solve(vandermonde_matrix, closing_prices)\n",
    "print(coefficients, \"---coefficients we get from solving the vandermonde of dates with values of close price\")"
   ]
  },
  {
   "cell_type": "code",
   "execution_count": 311,
   "metadata": {
    "collapsed": false,
    "scrolled": true
   },
   "outputs": [
    {
     "name": "stdout",
     "output_type": "stream",
     "text": [
      "-450.03193664865495 + 1565.822210157405·x¹ - 1657.7609192422633·x² +\n",
      "928.5441961696879·x³ - 308.4109344825001·x⁴ + 63.82032692226417·x⁵ -\n",
      "8.311085192451863·x⁶ + 0.6619574592310578·x⁷ - 0.029443603092207688·x⁸ +\n",
      "0.0005601009994685858·x⁹ ---our official polynomial post interpolation\n"
     ]
    }
   ],
   "source": [
    "polynomial_interpolation = Poly(coefficients[::-1])\n",
    "print(polynomial_interpolation, \"---our official polynomial post interpolation\")\n",
    "#we get a warning our problem is ill conditioned and accuracy is not storng"
   ]
  },
  {
   "cell_type": "code",
   "execution_count": 321,
   "metadata": {
    "collapsed": false
   },
   "outputs": [
    {
     "data": {
      "image/png": "[encoded data removed]",
      "text/plain": [
       "<Figure size 864x504 with 1 Axes>"
      ]
     },
     "execution_count": 321,
     "metadata": {
      "image/png": {
       "height": 440,
       "width": 723
      },
      "needs_background": "light"
     },
     "output_type": "execute_result"
    }
   ],
   "source": [
    "plt.title(\"interpolation of Apple History Data using vandermonde Matrix\")\n",
    "plt.scatter(apple_dataF.dates, apple_dataF.close_price)\n",
    "plt.xlabel(\"History (Days)\")\n",
    "plt.ylabel(\"Closing Price($)\")\n",
    "x = dates_a\n",
    "y_vandermonde = polynomial_interpolation(dates_a)\n",
    "plt.plot(x,y_vandermonde, \"r\")\n",
    "plt.show()"
   ]
  },
  {
   "cell_type": "code",
   "execution_count": 0,
   "metadata": {
    "collapsed": false
   },
   "outputs": [],
   "source": [
    "#Next would be adding more data points and history data and seeing what it does to the curve & points"
   ]
  },
  {
   "cell_type": "code",
   "execution_count": 0,
   "metadata": {
    "collapsed": false
   },
   "outputs": [],
   "source": [
    "#Evaluating using Newton polynomial interpolation "
   ]
  },
  {
   "cell_type": "code",
   "execution_count": 0,
   "metadata": {
    "collapsed": false
   },
   "outputs": [],
   "source": [
    "#Evaluating using Legrange polynomial interpolation"
   ]
  },
  {
   "cell_type": "code",
   "execution_count": 267,
   "metadata": {
    "collapsed": false
   },
   "outputs": [
    {
     "data": {
      "text/plain": [
       "0    180.683853\n",
       "1    178.390701\n",
       "Name: d, dtype: float64"
      ]
     },
     "execution_count": 267,
     "metadata": {},
     "output_type": "execute_result"
    }
   ],
   "source": [
    "apple_data.iloc[:2,5]"
   ]
  },
  {
   "cell_type": "code",
   "execution_count": 268,
   "metadata": {
    "collapsed": false
   },
   "outputs": [
    {
     "data": {
      "text/plain": [
       "Date    2022-01-03 00:00:00\n",
       "p                177.830002\n",
       "i                182.880005\n",
       "o                177.710007\n",
       "l                182.009995\n",
       "d                180.683853\n",
       "o                 104487900\n",
       "Name: 0, dtype: object"
      ]
     },
     "execution_count": 268,
     "metadata": {},
     "output_type": "execute_result"
    }
   ],
   "source": [
    "apple_data.iloc[0,:]"
   ]
  },
  {
   "cell_type": "code",
   "execution_count": 269,
   "metadata": {
    "collapsed": false,
    "scrolled": true
   },
   "outputs": [
    {
     "data": {
      "text/plain": [
       "241    134.304932\n",
       "242    132.168198\n",
       "243    132.098312\n",
       "244    135.243500\n",
       "245    132.028412\n",
       "246    131.658981\n",
       "247    129.831772\n",
       "248    125.847855\n",
       "249    129.412415\n",
       "250    129.731918\n",
       "Name: d, dtype: float64"
      ]
     },
     "execution_count": 269,
     "metadata": {},
     "output_type": "execute_result"
    }
   ],
   "source": [
    "apple_data.iloc[241:,5]"
   ]
  },
  {
   "cell_type": "code",
   "execution_count": 270,
   "metadata": {
    "collapsed": false
   },
   "outputs": [
    {
     "name": "stdout",
     "output_type": "stream",
     "text": [
      "0    2022-12-16\n",
      "1    2022-12-19\n",
      "2    2022-12-20\n",
      "3    2022-12-21\n",
      "4    2022-12-22\n",
      "5    2022-12-23\n",
      "6    2022-12-27\n",
      "7    2022-12-28\n",
      "8    2022-12-29\n",
      "9    2022-12-30\n",
      "dtype: object\n",
      "241    134.304932\n",
      "242    132.168198\n",
      "243    132.098312\n",
      "244    135.243500\n",
      "245    132.028412\n",
      "246    131.658981\n",
      "247    129.831772\n",
      "248    125.847855\n",
      "249    129.412415\n",
      "250    129.731918\n",
      "Name: d, dtype: float64\n"
     ]
    }
   ],
   "source": [
    "print(dates)\n",
    "print(close_prices)"
   ]
  },
  {
   "cell_type": "code",
   "execution_count": 271,
   "metadata": {
    "collapsed": false
   },
   "outputs": [
    {
     "name": "stdout",
     "output_type": "stream",
     "text": [
      "     dates  close_price\n",
      "0      0.0          NaN\n",
      "1      1.0          NaN\n",
      "2      2.0          NaN\n",
      "3      3.0          NaN\n",
      "4      4.0          NaN\n",
      "5      5.0          NaN\n",
      "6      6.0          NaN\n",
      "7      7.0          NaN\n",
      "8      8.0          NaN\n",
      "9      9.0          NaN\n",
      "241    NaN   134.304932\n",
      "242    NaN   132.168198\n",
      "243    NaN   132.098312\n",
      "244    NaN   135.243500\n",
      "245    NaN   132.028412\n",
      "246    NaN   131.658981\n",
      "247    NaN   129.831772\n",
      "248    NaN   125.847855\n",
      "249    NaN   129.412415\n",
      "250    NaN   129.731918\n"
     ]
    }
   ],
   "source": [
    "print(apple_data_frame)"
   ]
  },
  {
   "cell_type": "code",
   "execution_count": 252,
   "metadata": {
    "collapsed": false
   },
   "outputs": [
    {
     "data": {
      "text/plain": [
       "<bound method DataFrame.interpolate of           Date           p           i           o           l           d  \\\n",
       "0   2022-01-03  177.830002  182.880005  177.710007  182.009995  180.683853   \n",
       "1   2022-01-04  182.630005  182.940002  179.119995  179.699997  178.390701   \n",
       "2   2022-01-05  179.610001  180.169998  174.639999  174.919998  173.645538   \n",
       "3   2022-01-06  172.699997  175.300003  171.639999  172.000000  170.746811   \n",
       "4   2022-01-07  172.889999  174.139999  171.029999  172.169998  170.915558   \n",
       "..         ...         ...         ...         ...         ...         ...   \n",
       "246 2022-12-23  130.919998  132.419998  129.639999  131.860001  131.658981   \n",
       "247 2022-12-27  131.380005  131.410004  128.720001  130.029999  129.831772   \n",
       "248 2022-12-28  129.669998  131.029999  125.870003  126.040001  125.847855   \n",
       "249 2022-12-29  127.989998  130.479996  127.730003  129.610001  129.412415   \n",
       "250 2022-12-30  128.410004  129.949997  127.430000  129.929993  129.731918   \n",
       "\n",
       "             o  \n",
       "0    104487900  \n",
       "1     99310400  \n",
       "2     94537600  \n",
       "3     96904000  \n",
       "4     86709100  \n",
       "..         ...  \n",
       "246   63814900  \n",
       "247   69007800  \n",
       "248   85438400  \n",
       "249   75703700  \n",
       "250   76960600  \n",
       "\n",
       "[251 rows x 7 columns]>"
      ]
     },
     "execution_count": 252,
     "metadata": {},
     "output_type": "execute_result"
    }
   ],
   "source": [
    "apple_data.interpolate"
   ]
  },
  {
   "cell_type": "code",
   "execution_count": 256,
   "metadata": {
    "collapsed": false
   },
   "outputs": [
    {
     "data": {
      "text/plain": [
       "<bound method DataFrame.interpolate of                            date  closing_prices\n",
       "0                    2022-12-16             NaN\n",
       "1                    2022-12-19             NaN\n",
       "2                    2022-12-20             NaN\n",
       "3                    2022-12-21             NaN\n",
       "4                    2022-12-22             NaN\n",
       "...                         ...             ...\n",
       "2022-12-23 00:00:00         NaN      131.658981\n",
       "2022-12-27 00:00:00         NaN      129.831772\n",
       "2022-12-28 00:00:00         NaN      125.847855\n",
       "2022-12-29 00:00:00         NaN      129.412415\n",
       "2022-12-30 00:00:00         NaN      129.731918\n",
       "\n",
       "[261 rows x 2 columns]>"
      ]
     },
     "execution_count": 256,
     "metadata": {},
     "output_type": "execute_result"
    }
   ],
   "source": []
  },
  {
   "cell_type": "code",
   "execution_count": 0,
   "metadata": {
    "collapsed": false
   },
   "outputs": [],
   "source": []
  }
 ],
 "metadata": {
  "kernelspec": {
   "display_name": "Python 3 (system-wide)",
   "language": "python",
   "metadata": {
    "cocalc": {
     "description": "Python 3 programming language",
     "priority": 100,
     "url": "https://www.python.org/"
    }
   },
   "name": "python3",
   "resource_dir": "/ext/jupyter/kernels/python3"
  },
  "language_info": {
   "codemirror_mode": {
    "name": "ipython",
    "version": 3
   },
   "file_extension": ".py",
   "mimetype": "text/x-python",
   "name": "python",
   "nbconvert_exporter": "python",
   "pygments_lexer": "ipython3",
   "version": "3.8.10"
  }
 },
 "nbformat": 4,
 "nbformat_minor": 4
}
