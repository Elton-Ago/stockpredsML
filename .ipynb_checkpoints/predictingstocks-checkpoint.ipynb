{
 "cells": [
  {
   "cell_type": "code",
   "execution_count": 34,
   "id": "d1c6f34f",
   "metadata": {},
   "outputs": [],
   "source": [
    "import pandas as pd\n",
    "import yfinance as yf\n",
    "import os"
   ]
  },
  {
   "cell_type": "code",
   "execution_count": 35,
   "id": "b5b2e95a",
   "metadata": {},
   "outputs": [],
   "source": [
    "msft = yf.Ticker(\"MSFT\")\n",
    "msft_hist = msft.history(period=\"max\")\n",
    "DATA_PATH = \"msft_data.json\"\n",
    "\n",
    "if os.path.exists(DATA_PATH):\n",
    "    with open(DATA_PATH) as f:\n",
    "        msft_hist = pd.read_json(DATA_PATH)\n",
    "else:\n",
    "    msft = yf.Ticker(\"MSFT\")\n",
    "    msft_hist = msft.history(period=\"max\")\n",
    "    \n",
    "    msft_hist.to_json(DATA_PATH)"
   ]
  },
  {
   "cell_type": "code",
   "execution_count": 4,
   "id": "cae54e37",
   "metadata": {},
   "outputs": [
    {
     "data": {
      "text/html": [
       "<div>\n",
       "<style scoped>\n",
       "    .dataframe tbody tr th:only-of-type {\n",
       "        vertical-align: middle;\n",
       "    }\n",
       "\n",
       "    .dataframe tbody tr th {\n",
       "        vertical-align: top;\n",
       "    }\n",
       "\n",
       "    .dataframe thead th {\n",
       "        text-align: right;\n",
       "    }\n",
       "</style>\n",
       "<table border=\"1\" class=\"dataframe\">\n",
       "  <thead>\n",
       "    <tr style=\"text-align: right;\">\n",
       "      <th></th>\n",
       "      <th>Open</th>\n",
       "      <th>High</th>\n",
       "      <th>Low</th>\n",
       "      <th>Close</th>\n",
       "      <th>Volume</th>\n",
       "      <th>Dividends</th>\n",
       "      <th>Stock Splits</th>\n",
       "    </tr>\n",
       "  </thead>\n",
       "  <tbody>\n",
       "    <tr>\n",
       "      <th>1986-03-13</th>\n",
       "      <td>0.055536</td>\n",
       "      <td>0.063703</td>\n",
       "      <td>0.055536</td>\n",
       "      <td>0.060980</td>\n",
       "      <td>1031788800</td>\n",
       "      <td>0.0</td>\n",
       "      <td>0.0</td>\n",
       "    </tr>\n",
       "    <tr>\n",
       "      <th>1986-03-14</th>\n",
       "      <td>0.060980</td>\n",
       "      <td>0.064247</td>\n",
       "      <td>0.060980</td>\n",
       "      <td>0.063158</td>\n",
       "      <td>308160000</td>\n",
       "      <td>0.0</td>\n",
       "      <td>0.0</td>\n",
       "    </tr>\n",
       "    <tr>\n",
       "      <th>1986-03-17</th>\n",
       "      <td>0.063158</td>\n",
       "      <td>0.064792</td>\n",
       "      <td>0.063158</td>\n",
       "      <td>0.064247</td>\n",
       "      <td>133171200</td>\n",
       "      <td>0.0</td>\n",
       "      <td>0.0</td>\n",
       "    </tr>\n",
       "    <tr>\n",
       "      <th>1986-03-18</th>\n",
       "      <td>0.064247</td>\n",
       "      <td>0.064792</td>\n",
       "      <td>0.062069</td>\n",
       "      <td>0.062613</td>\n",
       "      <td>67766400</td>\n",
       "      <td>0.0</td>\n",
       "      <td>0.0</td>\n",
       "    </tr>\n",
       "    <tr>\n",
       "      <th>1986-03-19</th>\n",
       "      <td>0.062613</td>\n",
       "      <td>0.063158</td>\n",
       "      <td>0.060980</td>\n",
       "      <td>0.061524</td>\n",
       "      <td>47894400</td>\n",
       "      <td>0.0</td>\n",
       "      <td>0.0</td>\n",
       "    </tr>\n",
       "  </tbody>\n",
       "</table>\n",
       "</div>"
      ],
      "text/plain": [
       "                Open      High       Low     Close      Volume  Dividends  \\\n",
       "1986-03-13  0.055536  0.063703  0.055536  0.060980  1031788800        0.0   \n",
       "1986-03-14  0.060980  0.064247  0.060980  0.063158   308160000        0.0   \n",
       "1986-03-17  0.063158  0.064792  0.063158  0.064247   133171200        0.0   \n",
       "1986-03-18  0.064247  0.064792  0.062069  0.062613    67766400        0.0   \n",
       "1986-03-19  0.062613  0.063158  0.060980  0.061524    47894400        0.0   \n",
       "\n",
       "            Stock Splits  \n",
       "1986-03-13           0.0  \n",
       "1986-03-14           0.0  \n",
       "1986-03-17           0.0  \n",
       "1986-03-18           0.0  \n",
       "1986-03-19           0.0  "
      ]
     },
     "execution_count": 4,
     "metadata": {},
     "output_type": "execute_result"
    }
   ],
   "source": [
    "msft_hist.head(5)"
   ]
  },
  {
   "cell_type": "code",
   "execution_count": 5,
   "id": "0a1e120f",
   "metadata": {},
   "outputs": [],
   "source": [
    "#sequencial time series data above"
   ]
  },
  {
   "cell_type": "code",
   "execution_count": null,
   "id": "b440c179",
   "metadata": {
    "scrolled": false
   },
   "outputs": [],
   "source": []
  },
  {
   "cell_type": "code",
   "execution_count": null,
   "id": "f63b68ed",
   "metadata": {},
   "outputs": [],
   "source": []
  },
  {
   "cell_type": "code",
   "execution_count": null,
   "id": "e3db5429",
   "metadata": {},
   "outputs": [],
   "source": []
  },
  {
   "cell_type": "code",
   "execution_count": 6,
   "id": "bdb5de06",
   "metadata": {},
   "outputs": [
    {
     "data": {
      "text/plain": [
       "<AxesSubplot:>"
      ]
     },
     "execution_count": 6,
     "metadata": {},
     "output_type": "execute_result"
    },
    {
     "data": {
      "image/png": "[encoded data removed]",
      "text/plain": [
       "<Figure size 432x288 with 1 Axes>"
      ]
     },
     "metadata": {
      "needs_background": "light"
     },
     "output_type": "display_data"
    }
   ],
   "source": [
    "msft_hist.plot.line(y=\"Close\", use_index=True)"
   ]
  },
  {
   "cell_type": "code",
   "execution_count": 7,
   "id": "85508fe7",
   "metadata": {},
   "outputs": [
    {
     "data": {
      "text/html": [
       "<div>\n",
       "<style scoped>\n",
       "    .dataframe tbody tr th:only-of-type {\n",
       "        vertical-align: middle;\n",
       "    }\n",
       "\n",
       "    .dataframe tbody tr th {\n",
       "        vertical-align: top;\n",
       "    }\n",
       "\n",
       "    .dataframe thead th {\n",
       "        text-align: right;\n",
       "    }\n",
       "</style>\n",
       "<table border=\"1\" class=\"dataframe\">\n",
       "  <thead>\n",
       "    <tr style=\"text-align: right;\">\n",
       "      <th></th>\n",
       "      <th>Actual_Close</th>\n",
       "      <th>Target</th>\n",
       "    </tr>\n",
       "  </thead>\n",
       "  <tbody>\n",
       "    <tr>\n",
       "      <th>1986-03-13</th>\n",
       "      <td>0.060980</td>\n",
       "      <td>NaN</td>\n",
       "    </tr>\n",
       "    <tr>\n",
       "      <th>1986-03-14</th>\n",
       "      <td>0.063158</td>\n",
       "      <td>1.0</td>\n",
       "    </tr>\n",
       "    <tr>\n",
       "      <th>1986-03-17</th>\n",
       "      <td>0.064247</td>\n",
       "      <td>1.0</td>\n",
       "    </tr>\n",
       "    <tr>\n",
       "      <th>1986-03-18</th>\n",
       "      <td>0.062613</td>\n",
       "      <td>0.0</td>\n",
       "    </tr>\n",
       "    <tr>\n",
       "      <th>1986-03-19</th>\n",
       "      <td>0.061524</td>\n",
       "      <td>0.0</td>\n",
       "    </tr>\n",
       "  </tbody>\n",
       "</table>\n",
       "</div>"
      ],
      "text/plain": [
       "            Actual_Close  Target\n",
       "1986-03-13      0.060980     NaN\n",
       "1986-03-14      0.063158     1.0\n",
       "1986-03-17      0.064247     1.0\n",
       "1986-03-18      0.062613     0.0\n",
       "1986-03-19      0.061524     0.0"
      ]
     },
     "execution_count": 7,
     "metadata": {},
     "output_type": "execute_result"
    }
   ],
   "source": [
    "data = msft_hist[[\"Close\"]]\n",
    "data = data.rename(columns = {\"Close\": \"Actual_Close\"})\n",
    "data[\"Target\"] = msft_hist.rolling(2).apply(lambda x: x.iloc[1] > x.iloc[0])[\"Close\"]\n",
    "#rolling is a pandas feature that lets you go across the data frame in this case every 2 rows i.e. the (2)\n",
    "#lambda takes any number of arguments but only has one expression\n",
    "\n",
    "data.head()\n",
    "\n",
    "#NaN for the first row because there was no leakage data that pandas couldve used to predict it\n",
    "#rn we are using leakage because we want the algorithm to get \"used\" to this idea of predicting\n",
    "#a target of 1 means the algorithm is showing the closing price was higher than the day before\n",
    "#therefore a target of 0 means its show a closing price is lower than the day before\n",
    "#the entire purpose of target to do just that for example im thinking that when i buy microsoft on monday at $260\n",
    "#...lets say when I buy at $260 the next day It closes at $255 I'll get a 0 and can manipulate the data as I please \n",
    "#...like lets say I want to train it that whenever we have a target of 0 buy 5% of a share the following day at open\n",
    "#likewise if it goes to $265 I'll get a target of 1 and train my algorithm to sell 5% of a share when you get a 1\n",
    "#idk if this is profitable, doesnt sound like it due to the frequency of buying and selling but lets see"
   ]
  },
  {
   "cell_type": "code",
   "execution_count": 8,
   "id": "86e0eaf9",
   "metadata": {
    "scrolled": true
   },
   "outputs": [
    {
     "data": {
      "text/html": [
       "<div>\n",
       "<style scoped>\n",
       "    .dataframe tbody tr th:only-of-type {\n",
       "        vertical-align: middle;\n",
       "    }\n",
       "\n",
       "    .dataframe tbody tr th {\n",
       "        vertical-align: top;\n",
       "    }\n",
       "\n",
       "    .dataframe thead th {\n",
       "        text-align: right;\n",
       "    }\n",
       "</style>\n",
       "<table border=\"1\" class=\"dataframe\">\n",
       "  <thead>\n",
       "    <tr style=\"text-align: right;\">\n",
       "      <th></th>\n",
       "      <th>Open</th>\n",
       "      <th>High</th>\n",
       "      <th>Low</th>\n",
       "      <th>Close</th>\n",
       "      <th>Volume</th>\n",
       "      <th>Dividends</th>\n",
       "      <th>Stock Splits</th>\n",
       "    </tr>\n",
       "  </thead>\n",
       "  <tbody>\n",
       "    <tr>\n",
       "      <th>1986-03-13</th>\n",
       "      <td>NaN</td>\n",
       "      <td>NaN</td>\n",
       "      <td>NaN</td>\n",
       "      <td>NaN</td>\n",
       "      <td>NaN</td>\n",
       "      <td>NaN</td>\n",
       "      <td>NaN</td>\n",
       "    </tr>\n",
       "    <tr>\n",
       "      <th>1986-03-14</th>\n",
       "      <td>0.055536</td>\n",
       "      <td>0.063703</td>\n",
       "      <td>0.055536</td>\n",
       "      <td>0.060980</td>\n",
       "      <td>1.031789e+09</td>\n",
       "      <td>0.0</td>\n",
       "      <td>0.0</td>\n",
       "    </tr>\n",
       "    <tr>\n",
       "      <th>1986-03-17</th>\n",
       "      <td>0.060980</td>\n",
       "      <td>0.064247</td>\n",
       "      <td>0.060980</td>\n",
       "      <td>0.063158</td>\n",
       "      <td>3.081600e+08</td>\n",
       "      <td>0.0</td>\n",
       "      <td>0.0</td>\n",
       "    </tr>\n",
       "    <tr>\n",
       "      <th>1986-03-18</th>\n",
       "      <td>0.063158</td>\n",
       "      <td>0.064792</td>\n",
       "      <td>0.063158</td>\n",
       "      <td>0.064247</td>\n",
       "      <td>1.331712e+08</td>\n",
       "      <td>0.0</td>\n",
       "      <td>0.0</td>\n",
       "    </tr>\n",
       "    <tr>\n",
       "      <th>1986-03-19</th>\n",
       "      <td>0.064247</td>\n",
       "      <td>0.064792</td>\n",
       "      <td>0.062069</td>\n",
       "      <td>0.062613</td>\n",
       "      <td>6.776640e+07</td>\n",
       "      <td>0.0</td>\n",
       "      <td>0.0</td>\n",
       "    </tr>\n",
       "  </tbody>\n",
       "</table>\n",
       "</div>"
      ],
      "text/plain": [
       "                Open      High       Low     Close        Volume  Dividends  \\\n",
       "1986-03-13       NaN       NaN       NaN       NaN           NaN        NaN   \n",
       "1986-03-14  0.055536  0.063703  0.055536  0.060980  1.031789e+09        0.0   \n",
       "1986-03-17  0.060980  0.064247  0.060980  0.063158  3.081600e+08        0.0   \n",
       "1986-03-18  0.063158  0.064792  0.063158  0.064247  1.331712e+08        0.0   \n",
       "1986-03-19  0.064247  0.064792  0.062069  0.062613  6.776640e+07        0.0   \n",
       "\n",
       "            Stock Splits  \n",
       "1986-03-13           NaN  \n",
       "1986-03-14           0.0  \n",
       "1986-03-17           0.0  \n",
       "1986-03-18           0.0  \n",
       "1986-03-19           0.0  "
      ]
     },
     "execution_count": 8,
     "metadata": {},
     "output_type": "execute_result"
    }
   ],
   "source": [
    "msft_prev = msft_hist.copy()\n",
    "msft_prev = msft_prev.shift(1)\n",
    "#by shifting our data forward in this case by 1 I think it means our algorithm can predict the next day rather than\n",
    "#reporting a previous day \n",
    "msft_prev.head(5)\n",
    "#for example the actual close of 1986 3/13 was 0.060980\n",
    "#the close on 1986 3/14 is now shifted to be 0.060980"
   ]
  },
  {
   "cell_type": "code",
   "execution_count": null,
   "id": "b2f3c8b7",
   "metadata": {},
   "outputs": [],
   "source": []
  },
  {
   "cell_type": "markdown",
   "id": "0620ba33",
   "metadata": {},
   "source": [
    "msft_prev.head()"
   ]
  },
  {
   "cell_type": "code",
   "execution_count": 9,
   "id": "8ea95349",
   "metadata": {},
   "outputs": [
    {
     "data": {
      "text/html": [
       "<div>\n",
       "<style scoped>\n",
       "    .dataframe tbody tr th:only-of-type {\n",
       "        vertical-align: middle;\n",
       "    }\n",
       "\n",
       "    .dataframe tbody tr th {\n",
       "        vertical-align: top;\n",
       "    }\n",
       "\n",
       "    .dataframe thead th {\n",
       "        text-align: right;\n",
       "    }\n",
       "</style>\n",
       "<table border=\"1\" class=\"dataframe\">\n",
       "  <thead>\n",
       "    <tr style=\"text-align: right;\">\n",
       "      <th></th>\n",
       "      <th>Actual_Close</th>\n",
       "      <th>Target</th>\n",
       "      <th>Close</th>\n",
       "      <th>Volume</th>\n",
       "      <th>Open</th>\n",
       "      <th>High</th>\n",
       "      <th>Low</th>\n",
       "    </tr>\n",
       "  </thead>\n",
       "  <tbody>\n",
       "    <tr>\n",
       "      <th>1986-03-14</th>\n",
       "      <td>0.063158</td>\n",
       "      <td>1.0</td>\n",
       "      <td>0.060980</td>\n",
       "      <td>1.031789e+09</td>\n",
       "      <td>0.055536</td>\n",
       "      <td>0.063703</td>\n",
       "      <td>0.055536</td>\n",
       "    </tr>\n",
       "    <tr>\n",
       "      <th>1986-03-17</th>\n",
       "      <td>0.064247</td>\n",
       "      <td>1.0</td>\n",
       "      <td>0.063158</td>\n",
       "      <td>3.081600e+08</td>\n",
       "      <td>0.060980</td>\n",
       "      <td>0.064247</td>\n",
       "      <td>0.060980</td>\n",
       "    </tr>\n",
       "    <tr>\n",
       "      <th>1986-03-18</th>\n",
       "      <td>0.062613</td>\n",
       "      <td>0.0</td>\n",
       "      <td>0.064247</td>\n",
       "      <td>1.331712e+08</td>\n",
       "      <td>0.063158</td>\n",
       "      <td>0.064792</td>\n",
       "      <td>0.063158</td>\n",
       "    </tr>\n",
       "    <tr>\n",
       "      <th>1986-03-19</th>\n",
       "      <td>0.061524</td>\n",
       "      <td>0.0</td>\n",
       "      <td>0.062613</td>\n",
       "      <td>6.776640e+07</td>\n",
       "      <td>0.064247</td>\n",
       "      <td>0.064792</td>\n",
       "      <td>0.062069</td>\n",
       "    </tr>\n",
       "    <tr>\n",
       "      <th>1986-03-20</th>\n",
       "      <td>0.059891</td>\n",
       "      <td>0.0</td>\n",
       "      <td>0.061524</td>\n",
       "      <td>4.789440e+07</td>\n",
       "      <td>0.062613</td>\n",
       "      <td>0.063158</td>\n",
       "      <td>0.060980</td>\n",
       "    </tr>\n",
       "  </tbody>\n",
       "</table>\n",
       "</div>"
      ],
      "text/plain": [
       "            Actual_Close  Target     Close        Volume      Open      High  \\\n",
       "1986-03-14      0.063158     1.0  0.060980  1.031789e+09  0.055536  0.063703   \n",
       "1986-03-17      0.064247     1.0  0.063158  3.081600e+08  0.060980  0.064247   \n",
       "1986-03-18      0.062613     0.0  0.064247  1.331712e+08  0.063158  0.064792   \n",
       "1986-03-19      0.061524     0.0  0.062613  6.776640e+07  0.064247  0.064792   \n",
       "1986-03-20      0.059891     0.0  0.061524  4.789440e+07  0.062613  0.063158   \n",
       "\n",
       "                 Low  \n",
       "1986-03-14  0.055536  \n",
       "1986-03-17  0.060980  \n",
       "1986-03-18  0.063158  \n",
       "1986-03-19  0.062069  \n",
       "1986-03-20  0.060980  "
      ]
     },
     "execution_count": 9,
     "metadata": {},
     "output_type": "execute_result"
    }
   ],
   "source": [
    "predictors = [\"Close\", \"Volume\", \"Open\", \"High\", \"Low\"]\n",
    "#our variables we'll use to predict\n",
    "data = data.join(msft_prev[predictors]).iloc[1:]\n",
    "#our target is in data and we'll be taking our predictor variables and take after past the first row i.e. the one after\n",
    "#NaN\n",
    "data.head()\n",
    "#all the data we now see for each row is from the day before\n",
    "#like i said before 3-14 data is actually 3-13 data\n",
    "#using the 3-13 data to predict 3-14 data thats what this sets up and what we want it to do overall!!"
   ]
  },
  {
   "cell_type": "code",
   "execution_count": 10,
   "id": "81318136",
   "metadata": {},
   "outputs": [],
   "source": [
    "from sklearn.ensemble import RandomForestClassifier #SciKitLearn has RandomForestClassifier function can identify nonlinear relationships in the data\n",
    "import numpy as np\n",
    "\n",
    "model = RandomForestClassifier(n_estimators=500, min_samples_split=200, random_state=1)\n",
    "#initialzing the randomforestclassifer model \n",
    "#we set parameters like estimators--individual decision trees we wanna train and avg their results for a final result\n",
    "#min samples split allows us to not overfit the data and prevents the tree from \"tightening\" to the data \n",
    "#essentially the less tight our tree is to the better i guess--overfitting is bad bc it does well with model data...\n",
    "#but not test (real world) data\n",
    "#random state not needed but will guarentee refreshed data"
   ]
  },
  {
   "cell_type": "code",
   "execution_count": 11,
   "id": "09efe01b",
   "metadata": {},
   "outputs": [
    {
     "data": {
      "text/plain": [
       "RandomForestClassifier(min_samples_split=200, n_estimators=300, random_state=1)"
      ]
     },
     "execution_count": 11,
     "metadata": {},
     "output_type": "execute_result"
    }
   ],
   "source": [
    "train = data.iloc[:-100]\n",
    "test = data.iloc[-100:]\n",
    "#here we are taking the whole dataset except the last 100 rows\n",
    "#then we take the last 100 rows\n",
    "#to evaluate error we will use cross validation\n",
    "model.fit(train[predictors], train[\"Target\"])\n",
    "#now we will fit the model to be trained on the predictor variables we set\n",
    "#accustomed to target\n"
   ]
  },
  {
   "cell_type": "code",
   "execution_count": 12,
   "id": "cceeaa21",
   "metadata": {},
   "outputs": [
    {
     "data": {
      "text/plain": [
       "0.46153846153846156"
      ]
     },
     "execution_count": 12,
     "metadata": {},
     "output_type": "execute_result"
    }
   ],
   "source": [
    "from sklearn.metrics import precision_score\n",
    "#function in scikit called precision score that can accurately rate our model\n",
    "#identifying how many true positives our model predicted so does when the price actually went up and the algorithm\n",
    "#...said it would go up\n",
    "#divided by all the times it said it would go up\n",
    "\n",
    "#we wanna minimize our false positives\n",
    "preds = model.predict(test[predictors])\n",
    "#by default the above is a numpy array\n",
    "preds = pd.Series(preds, index=test.index)\n",
    "#so we turn it into a pandas series\n",
    "precision_score(test[\"Target\"], preds)\n",
    "#real values vs predicted values"
   ]
  },
  {
   "cell_type": "code",
   "execution_count": 13,
   "id": "8d6f8bdb",
   "metadata": {},
   "outputs": [
    {
     "data": {
      "text/plain": [
       "<AxesSubplot:>"
      ]
     },
     "execution_count": 13,
     "metadata": {},
     "output_type": "execute_result"
    },
    {
     "data": {
      "image/png": "[encoded data removed]",
      "text/plain": [
       "<Figure size 432x288 with 1 Axes>"
      ]
     },
     "metadata": {
      "needs_background": "light"
     },
     "output_type": "display_data"
    }
   ],
   "source": [
    "combined = pd.concat({\"Target\": test[\"Target\"], \"Predictions\": preds}, axis=1)\n",
    "#combine our datasets\n",
    "#adding our target with real target to one plot\n",
    "combined.plot()"
   ]
  },
  {
   "cell_type": "code",
   "execution_count": 14,
   "id": "a7dfb54a",
   "metadata": {},
   "outputs": [],
   "source": [
    "i = 1000\n",
    "step = 1\n",
    "\n",
    "train = data.iloc[0:i].copy()\n",
    "test = data.iloc[i:(i+step)].copy()\n",
    "model.fit(train[predictors], train[\"Target\"])\n",
    "preds = model.predict_proba(test[predictors])"
   ]
  },
  {
   "cell_type": "code",
   "execution_count": 15,
   "id": "a17e9ca7",
   "metadata": {},
   "outputs": [
    {
     "data": {
      "text/plain": [
       "1990-02-27    1.0\n",
       "1990-02-28    1.0\n",
       "1990-03-01    0.0\n",
       "1990-03-02    1.0\n",
       "1990-03-05    1.0\n",
       "dtype: float64"
      ]
     },
     "execution_count": 15,
     "metadata": {},
     "output_type": "execute_result"
    }
   ],
   "source": [
    "preds = model.predict_proba(test[predictors])[:,1]\n",
    "preds = pd.Series(preds, index=test.index)\n",
    "preds[preds > 0.6] = 1\n",
    "preds[preds <= 0.6] = 0\n",
    "\n",
    "preds.head()"
   ]
  },
  {
   "cell_type": "code",
   "execution_count": 16,
   "id": "bb3b4be2",
   "metadata": {},
   "outputs": [],
   "source": [
    "#backtesting\n",
    "predictions = []\n",
    "\n",
    "#for loop over datset in increments\n",
    "\n",
    "for i in range(1000, data.shape[0], step):\n",
    "    #split into train and test sets\n",
    "    train = data.iloc[0:i].copy()\n",
    "    test = data.iloc[i:(i+step)].copy()\n",
    "    \n",
    "    #fit the random forest model\n",
    "    model.fit(train[predictors], train[\"Target\"])\n",
    "    \n",
    "    #make predictions\n",
    "    preds = model.predict_proba(test[predictors])[:,1]\n",
    "    preds = pd.Series(preds, index=test.index)\n",
    "    preds[preds > 0.6] = 1\n",
    "    preds[preds <= 0.6] = 0\n",
    "    #if the prediction is right by .6 we give it a 1 \n",
    "    #if the prediction is wrong by 0.6 or equal it goes a 0\n",
    "    \n",
    "    #combine predictions and test values\n",
    "    combined = pd.concat({\"Target\": test[\"Target\"],\"Predictions\": preds}, axis=1)\n",
    "    \n",
    "    predictions.append(combined)\n",
    "    \n",
    "    predictions[0].head()"
   ]
  },
  {
   "cell_type": "code",
   "execution_count": 17,
   "id": "9cd11eeb",
   "metadata": {},
   "outputs": [],
   "source": [
    "def backtest(data, mdoel, predictors, start= 1000, step=1):\n",
    "    predictions = []\n",
    "    #loop oer the datasetin increments\n",
    "    for i in range(start, data.shape[0], step):\n",
    "        #split into train and test sets\n",
    "        train = data.iloc[0:i].copy()\n",
    "        test = data.iloc[i:(i+step)].copy()\n",
    "        \n",
    "        #fit the random forest model\n",
    "        model.fit(train[predictors], train[\"Target\"])\n",
    "        \n",
    "        #Make predictions\n",
    "        preds = model.predict_proba(test[predictors])[:,1]\n",
    "        preds = pd.Series(preds, index=test.index)\n",
    "        preds[preds > 0.6] = 1\n",
    "        preds[preds <= 0.6] = 0\n",
    "        \n",
    "        #combine predictions and test values\n",
    "        combined = pd.concat({\"Target\": test[\"Target\"],\"Predictions\": preds}, axis=1)\n",
    "        \n",
    "        predictions.append(combined)\n",
    "        \n",
    "    return pd.concat(predictions)"
   ]
  },
  {
   "cell_type": "code",
   "execution_count": 18,
   "id": "e6c7a4af",
   "metadata": {},
   "outputs": [],
   "source": [
    "predictions = backtest(data, model, predictors)"
   ]
  },
  {
   "cell_type": "code",
   "execution_count": 19,
   "id": "a3e37de6",
   "metadata": {},
   "outputs": [
    {
     "data": {
      "text/plain": [
       "0.0    7681\n",
       "1.0     532\n",
       "Name: Predictions, dtype: int64"
      ]
     },
     "execution_count": 19,
     "metadata": {},
     "output_type": "execute_result"
    }
   ],
   "source": [
    "predictions[\"Predictions\"].value_counts()"
   ]
  },
  {
   "cell_type": "code",
   "execution_count": 20,
   "id": "724f3d01",
   "metadata": {},
   "outputs": [
    {
     "data": {
      "text/plain": [
       "1.0    4156\n",
       "0.0    4057\n",
       "Name: Target, dtype: int64"
      ]
     },
     "execution_count": 20,
     "metadata": {},
     "output_type": "execute_result"
    }
   ],
   "source": [
    "predictions[\"Target\"].value_counts()"
   ]
  },
  {
   "cell_type": "code",
   "execution_count": 21,
   "id": "066d1ed1",
   "metadata": {},
   "outputs": [
    {
     "data": {
      "text/plain": [
       "0.5150375939849624"
      ]
     },
     "execution_count": 21,
     "metadata": {},
     "output_type": "execute_result"
    }
   ],
   "source": [
    "precision_score(predictions[\"Target\"], predictions[\"Predictions\"])"
   ]
  },
  {
   "cell_type": "code",
   "execution_count": 22,
   "id": "c088f06d",
   "metadata": {},
   "outputs": [],
   "source": [
    "weekly_mean = data.rolling(7).mean()[\"Close\"]\n",
    "quarterly_mean = data.rolling(90).mean()[\"Close\"]\n",
    "annual_mean = data.rolling(365).mean()[\"Close\"]"
   ]
  },
  {
   "cell_type": "code",
   "execution_count": 23,
   "id": "9b5c404f",
   "metadata": {},
   "outputs": [],
   "source": [
    "weekly_trend = data.shift(1).rolling(7).sum()[\"Target\"]"
   ]
  },
  {
   "cell_type": "code",
   "execution_count": 24,
   "id": "0e80c34a",
   "metadata": {},
   "outputs": [],
   "source": [
    "data[\"weekly_mean\"] = weekly_mean / data[\"Close\"]\n",
    "data[\"quarterly_mean\"] = quarterly_mean / data[\"Close\"]\n",
    "data[\"annual_mean\"] = annual_mean / data[\"Close\"]"
   ]
  },
  {
   "cell_type": "code",
   "execution_count": 25,
   "id": "2a65d002",
   "metadata": {},
   "outputs": [],
   "source": [
    "data[\"annual_weekly_mean\"] = data[\"annual_mean\"] / data[\"weekly_mean\"]\n",
    "data[\"annual_quarterly_mean\"] = data[\"annual_mean\"] / data[\"quarterly_mean\"]"
   ]
  },
  {
   "cell_type": "code",
   "execution_count": 26,
   "id": "d5406829",
   "metadata": {},
   "outputs": [],
   "source": [
    "data[\"weekly_trend\"] = weekly_trend"
   ]
  },
  {
   "cell_type": "code",
   "execution_count": 27,
   "id": "a675773d",
   "metadata": {},
   "outputs": [],
   "source": [
    "data[\"open_close_ratio\"] = data[\"Open\"] / data[\"Close\"]\n",
    "data[\"high_close_ratio\"] = data[\"High\"] / data[\"Close\"]\n",
    "data[\"low_close_ratio\"] = data[\"Low\"] / data[\"Close\"]"
   ]
  },
  {
   "cell_type": "code",
   "execution_count": 28,
   "id": "2d084f80",
   "metadata": {},
   "outputs": [],
   "source": [
    "full_predictors = predictors + [\"weekly_mean\", 'quarterly_mean', \"annual_mean\", \"annual_weekly_mean\", \"annual_quarterly_mean\", \"open_close_ratio\", \"high_close_ratio\", \"low_close_ratio\"]"
   ]
  },
  {
   "cell_type": "code",
   "execution_count": 29,
   "id": "ee93ae7b",
   "metadata": {},
   "outputs": [],
   "source": [
    "predictions = backtest(data.iloc[365:], model, full_predictors)"
   ]
  },
  {
   "cell_type": "code",
   "execution_count": 30,
   "id": "d287097b",
   "metadata": {},
   "outputs": [
    {
     "data": {
      "text/plain": [
       "0.6071428571428571"
      ]
     },
     "execution_count": 30,
     "metadata": {},
     "output_type": "execute_result"
    }
   ],
   "source": [
    "precision_score(predictions[\"Target\"], predictions[\"Predictions\"])"
   ]
  },
  {
   "cell_type": "code",
   "execution_count": 31,
   "id": "6153a7ff",
   "metadata": {},
   "outputs": [
    {
     "data": {
      "text/plain": [
       "0.0    7484\n",
       "1.0     364\n",
       "Name: Predictions, dtype: int64"
      ]
     },
     "execution_count": 31,
     "metadata": {},
     "output_type": "execute_result"
    }
   ],
   "source": [
    "#show how many day trades we would make\n",
    "predictions[\"Predictions\"].value_counts()"
   ]
  },
  {
   "cell_type": "code",
   "execution_count": 32,
   "id": "14eb21e7",
   "metadata": {},
   "outputs": [
    {
     "data": {
      "text/plain": [
       "<AxesSubplot:>"
      ]
     },
     "execution_count": 32,
     "metadata": {},
     "output_type": "execute_result"
    },
    {
     "data": {
      "image/png": "[encoded data removed]",
      "text/plain": [
       "<Figure size 432x288 with 1 Axes>"
      ]
     },
     "metadata": {
      "needs_background": "light"
     },
     "output_type": "display_data"
    }
   ],
   "source": [
    "predictions.iloc[-100:].plot()"
   ]
  },
  {
   "cell_type": "code",
   "execution_count": null,
   "id": "69e31c6b",
   "metadata": {},
   "outputs": [],
   "source": [
    "#more predictors to add like activity monitor at times of day overall activity\n",
    "#economic indicators\n",
    "#company milestones\n",
    "#dividends"
   ]
  },
  {
   "cell_type": "code",
   "execution_count": null,
   "id": "4c6dc682",
   "metadata": {},
   "outputs": [],
   "source": []
  }
 ],
 "metadata": {
  "kernelspec": {
   "display_name": "Python 3 (ipykernel)",
   "language": "python",
   "name": "python3"
  },
  "language_info": {
   "codemirror_mode": {
    "name": "ipython",
    "version": 3
   },
   "file_extension": ".py",
   "mimetype": "text/x-python",
   "name": "python",
   "nbconvert_exporter": "python",
   "pygments_lexer": "ipython3",
   "version": "3.9.12"
  }
 },
 "nbformat": 4,
 "nbformat_minor": 5
}
